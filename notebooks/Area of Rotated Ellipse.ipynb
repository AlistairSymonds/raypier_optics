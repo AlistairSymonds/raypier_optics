{
 "cells": [
  {
   "cell_type": "code",
   "execution_count": 2,
   "metadata": {},
   "outputs": [
    {
     "name": "stdout",
     "output_type": "stream",
     "text": [
      "IPython console for SymPy 1.6.2 (Python 3.7.9-64-bit) (ground types: gmpy)\n",
      "\n",
      "These commands were executed:\n",
      ">>> from __future__ import division\n",
      ">>> from sympy import *\n",
      ">>> x, y, z, t = symbols('x y z t')\n",
      ">>> k, m, n = symbols('k m n', integer=True)\n",
      ">>> f, g, h = symbols('f g h', cls=Function)\n",
      ">>> init_printing()\n",
      "\n",
      "Documentation can be found at https://docs.sympy.org/1.6.2/\n",
      "\n"
     ]
    }
   ],
   "source": [
    "from sympy import init_session\n",
    "import sympy\n",
    "from sympy import Eq, solve, solveset\n",
    "\n",
    "init_session()"
   ]
  },
  {
   "cell_type": "markdown",
   "metadata": {},
   "source": [
    "# Area of a rotated ellipse\n",
    "\n",
    "We have the equation for a rotated ellipse as:\n",
    "\n",
    "$\n",
    "A x^2 + 2 B x y + C y^2 = 1\n",
    "$\n",
    "\n",
    "Where the A,B,C coefficients are, in fact the imaginary parts of the coefficients used in the $\\Gamma$ matrix for the Astigmatic Gaussian Mode propagation.\n",
    "\n",
    "We apply the affine transformation $ x = \\lambda y + z $ which preserved the area of the ellipse, to give:"
   ]
  },
  {
   "cell_type": "code",
   "execution_count": 3,
   "metadata": {},
   "outputs": [],
   "source": [
    "A,B,C,x,y,z,l = symbols(\"A B C x y z lambda\")"
   ]
  },
  {
   "cell_type": "code",
   "execution_count": 4,
   "metadata": {},
   "outputs": [
    {
     "data": {
      "image/png": "[encoded data removed]",
      "text/latex": [
       "$\\displaystyle A x^{2} + 2 B x y + C y^{2} - 1$"
      ],
      "text/plain": [
       "   2                2    \n",
       "A⋅x  + 2⋅B⋅x⋅y + C⋅y  - 1"
      ]
     },
     "execution_count": 4,
     "metadata": {},
     "output_type": "execute_result"
    }
   ],
   "source": [
    "e1 = A*x**2 + 2*B*x*y + C*y**2 - 1\n",
    "e1"
   ]
  },
  {
   "cell_type": "code",
   "execution_count": 6,
   "metadata": {},
   "outputs": [
    {
     "data": {
      "image/png": "[encoded data removed]",
      "text/latex": [
       "$\\displaystyle A \\left(\\lambda y + z\\right)^{2} + 2 B y \\left(\\lambda y + z\\right) + C y^{2} - 1$"
      ],
      "text/plain": [
       "           2                        2    \n",
       "A⋅(λ⋅y + z)  + 2⋅B⋅y⋅(λ⋅y + z) + C⋅y  - 1"
      ]
     },
     "execution_count": 6,
     "metadata": {},
     "output_type": "execute_result"
    }
   ],
   "source": [
    "e2 = e1.subs(x, l*y + z)\n",
    "e2"
   ]
  },
  {
   "cell_type": "code",
   "execution_count": 9,
   "metadata": {},
   "outputs": [
    {
     "data": {
      "image/png": "[encoded data removed]",
      "text/latex": [
       "$\\displaystyle A \\lambda^{2} y^{2} + A z^{2} + 2 B \\lambda y^{2} + C y^{2} + y z \\left(2 A \\lambda + 2 B\\right) - 1$"
      ],
      "text/plain": [
       "   2  2      2          2      2                        \n",
       "A⋅λ ⋅y  + A⋅z  + 2⋅B⋅λ⋅y  + C⋅y  + y⋅z⋅(2⋅A⋅λ + 2⋅B) - 1"
      ]
     },
     "execution_count": 9,
     "metadata": {},
     "output_type": "execute_result"
    }
   ],
   "source": [
    "e3=e2.expand().collect(y*z)\n",
    "e3"
   ]
  },
  {
   "cell_type": "code",
   "execution_count": 10,
   "metadata": {},
   "outputs": [
    {
     "data": {
      "image/png": "[encoded data removed]",
      "text/latex": [
       "$\\displaystyle \\left[ - \\frac{B}{A}\\right]$"
      ],
      "text/plain": [
       "⎡-B ⎤\n",
       "⎢───⎥\n",
       "⎣ A ⎦"
      ]
     },
     "execution_count": 10,
     "metadata": {},
     "output_type": "execute_result"
    }
   ],
   "source": [
    "solve(2*A*l + 2*B, l)"
   ]
  },
  {
   "cell_type": "code",
   "execution_count": 12,
   "metadata": {},
   "outputs": [
    {
     "data": {
      "image/png": "[encoded data removed]",
      "text/latex": [
       "$\\displaystyle A z^{2} + y^{2} \\left(C - \\frac{B^{2}}{A}\\right) - 1$"
      ],
      "text/plain": [
       "          ⎛     2⎞    \n",
       "   2    2 ⎜    B ⎟    \n",
       "A⋅z  + y ⋅⎜C - ──⎟ - 1\n",
       "          ⎝    A ⎠    "
      ]
     },
     "execution_count": 12,
     "metadata": {},
     "output_type": "execute_result"
    }
   ],
   "source": [
    "e4 = e3.subs(l, -B/A).collect(y**2)\n",
    "e4"
   ]
  },
  {
   "cell_type": "code",
   "execution_count": 13,
   "metadata": {},
   "outputs": [],
   "source": [
    "a = 1/sqrt(A)\n",
    "b = 1/sqrt(C-(B**2)/A)"
   ]
  },
  {
   "cell_type": "code",
   "execution_count": 14,
   "metadata": {},
   "outputs": [
    {
     "data": {
      "image/png": "[encoded data removed]",
      "text/latex": [
       "$\\displaystyle \\frac{\\pi}{\\sqrt{A} \\sqrt{C - \\frac{B^{2}}{A}}}$"
      ],
      "text/plain": [
       "       π        \n",
       "────────────────\n",
       "        ________\n",
       "       ╱      2 \n",
       "      ╱      B  \n",
       "√A⋅  ╱   C - ── \n",
       "   ╲╱        A  "
      ]
     },
     "execution_count": 14,
     "metadata": {},
     "output_type": "execute_result"
    }
   ],
   "source": [
    "area = pi*a*b\n",
    "area"
   ]
  },
  {
   "cell_type": "code",
   "execution_count": 16,
   "metadata": {},
   "outputs": [
    {
     "data": {
      "image/png": "[encoded data removed]",
      "text/latex": [
       "$\\displaystyle \\frac{\\pi}{\\sqrt{A} \\sqrt{C - \\frac{B^{2}}{A}}}$"
      ],
      "text/plain": [
       "       π        \n",
       "────────────────\n",
       "        ________\n",
       "       ╱      2 \n",
       "      ╱      B  \n",
       "√A⋅  ╱   C - ── \n",
       "   ╲╱        A  "
      ]
     },
     "execution_count": 16,
     "metadata": {},
     "output_type": "execute_result"
    }
   ],
   "source": [
    "area.expand()"
   ]
  },
  {
   "cell_type": "markdown",
   "metadata": {},
   "source": [
    "Can't get sympy to combine the roots. Anyway, the area of a rotated ellipse described by the equation E1 above is:\n",
    "\n",
    "$\n",
    "Area = \\frac{\\pi}{\\sqrt{A C - B^2}}\n",
    "$"
   ]
  },
  {
   "cell_type": "code",
   "execution_count": null,
   "metadata": {},
   "outputs": [],
   "source": []
  }
 ],
 "metadata": {
  "kernelspec": {
   "display_name": "Python [conda env:raytrace]",
   "language": "python",
   "name": "conda-env-raytrace-py"
  },
  "language_info": {
   "codemirror_mode": {
    "name": "ipython",
    "version": 3
   },
   "file_extension": ".py",
   "mimetype": "text/x-python",
   "name": "python",
   "nbconvert_exporter": "python",
   "pygments_lexer": "ipython3",
   "version": "3.7.9"
  }
 },
 "nbformat": 4,
 "nbformat_minor": 4
}
