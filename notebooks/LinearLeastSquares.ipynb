{
 "cells": [
  {
   "cell_type": "code",
   "execution_count": 1,
   "metadata": {},
   "outputs": [
    {
     "name": "stdout",
     "output_type": "stream",
     "text": [
      "IPython console for SymPy 1.6.2 (Python 3.7.9-64-bit) (ground types: gmpy)\n",
      "\n",
      "These commands were executed:\n",
      ">>> from __future__ import division\n",
      ">>> from sympy import *\n",
      ">>> x, y, z, t = symbols('x y z t')\n",
      ">>> k, m, n = symbols('k m n', integer=True)\n",
      ">>> f, g, h = symbols('f g h', cls=Function)\n",
      ">>> init_printing()\n",
      "\n",
      "Documentation can be found at https://docs.sympy.org/1.6.2/\n",
      "\n"
     ]
    }
   ],
   "source": [
    "from sympy import init_session\n",
    "import sympy\n",
    "\n",
    "init_session()"
   ]
  },
  {
   "cell_type": "code",
   "execution_count": 29,
   "metadata": {},
   "outputs": [],
   "source": [
    "from sympy import Matrix, solve_linear_system, MatrixSymbol, linsolve"
   ]
  },
  {
   "cell_type": "code",
   "execution_count": 6,
   "metadata": {},
   "outputs": [],
   "source": [
    "x1,x2,x3,x4,x5,x6 = sympy.symbols(\"x1 x2 x3 x4 x5 x6\")\n",
    "y1,y2,y3,y4,y5,y6 = sympy.symbols(\"y1 y2 y3 y4 y5 y6\")\n",
    "a,b,c = symbols(\"a b c\")"
   ]
  },
  {
   "cell_type": "code",
   "execution_count": 7,
   "metadata": {},
   "outputs": [],
   "source": [
    "system = Matrix( ( (a*x1**2, b*2*x1*y1, c*y1**2, 1),\n",
    "                 (a*x2**2, b*2*x2*y2, c*y2**2, 1),\n",
    "                  (a*x3**2, b*2*x3*y3, c*y3**2, 1),\n",
    "                  (a*x4**2, b*2*x4*y4, c*y4**2, 1),\n",
    "                  (a*x5**2, b*2*x5*y5, c*y5**2, 1),\n",
    "                  (a*x6**2, b*2*x6*y6, c*y6**2, 1),\n",
    "                 ) )"
   ]
  },
  {
   "cell_type": "code",
   "execution_count": 9,
   "metadata": {},
   "outputs": [],
   "source": [
    "ret = solve_linear_system(system, a, b, c)\n",
    "ret"
   ]
  },
  {
   "cell_type": "code",
   "execution_count": 11,
   "metadata": {},
   "outputs": [
    {
     "data": {
      "text/latex": [
       "$\\displaystyle \\left[\\begin{matrix}x_{1}^{2} & 2 x_{1} y_{1} & y_{1}^{2}\\\\x_{2}^{2} & 2 x_{2} y_{2} & y_{2}^{2}\\\\x_{3}^{2} & 2 x_{3} y_{3} & y_{3}^{2}\\\\x_{4}^{2} & 2 x_{4} y_{4} & y_{4}^{2}\\\\x_{5}^{2} & 2 x_{5} y_{5} & y_{5}^{2}\\\\x_{6}^{2} & 2 x_{6} y_{6} & y_{6}^{2}\\end{matrix}\\right]$"
      ],
      "text/plain": [
       "⎡  2             2⎤\n",
       "⎢x₁   2⋅x₁⋅y₁  y₁ ⎥\n",
       "⎢                 ⎥\n",
       "⎢  2             2⎥\n",
       "⎢x₂   2⋅x₂⋅y₂  y₂ ⎥\n",
       "⎢                 ⎥\n",
       "⎢  2             2⎥\n",
       "⎢x₃   2⋅x₃⋅y₃  y₃ ⎥\n",
       "⎢                 ⎥\n",
       "⎢  2             2⎥\n",
       "⎢x₄   2⋅x₄⋅y₄  y₄ ⎥\n",
       "⎢                 ⎥\n",
       "⎢  2             2⎥\n",
       "⎢x₅   2⋅x₅⋅y₅  y₅ ⎥\n",
       "⎢                 ⎥\n",
       "⎢  2             2⎥\n",
       "⎣x₆   2⋅x₆⋅y₆  y₆ ⎦"
      ]
     },
     "execution_count": 11,
     "metadata": {},
     "output_type": "execute_result"
    }
   ],
   "source": [
    "M = Matrix( ( (x1**2, 2*x1*y1, y1**2),\n",
    "                 (x2**2, 2*x2*y2, y2**2),\n",
    "                  (x3**2, 2*x3*y3, y3**2),\n",
    "                  (x4**2, 2*x4*y4, y4**2),\n",
    "                  (x5**2, 2*x5*y5, y5**2),\n",
    "                  (x6**2, 2*x6*y6, y6**2),\n",
    "                 ) )\n",
    "M"
   ]
  },
  {
   "cell_type": "code",
   "execution_count": 41,
   "metadata": {},
   "outputs": [
    {
     "data": {
      "text/latex": [
       "$\\displaystyle \\left[\\begin{matrix}x_{1}^{4} + x_{2}^{4} + x_{3}^{4} + x_{4}^{4} + x_{5}^{4} + x_{6}^{4} & 2 x_{1}^{3} y_{1} + 2 x_{2}^{3} y_{2} + 2 x_{3}^{3} y_{3} + 2 x_{4}^{3} y_{4} + 2 x_{5}^{3} y_{5} + 2 x_{6}^{3} y_{6} & x_{1}^{2} y_{1}^{2} + x_{2}^{2} y_{2}^{2} + x_{3}^{2} y_{3}^{2} + x_{4}^{2} y_{4}^{2} + x_{5}^{2} y_{5}^{2} + x_{6}^{2} y_{6}^{2}\\\\2 x_{1}^{3} y_{1} + 2 x_{2}^{3} y_{2} + 2 x_{3}^{3} y_{3} + 2 x_{4}^{3} y_{4} + 2 x_{5}^{3} y_{5} + 2 x_{6}^{3} y_{6} & 4 x_{1}^{2} y_{1}^{2} + 4 x_{2}^{2} y_{2}^{2} + 4 x_{3}^{2} y_{3}^{2} + 4 x_{4}^{2} y_{4}^{2} + 4 x_{5}^{2} y_{5}^{2} + 4 x_{6}^{2} y_{6}^{2} & 2 x_{1} y_{1}^{3} + 2 x_{2} y_{2}^{3} + 2 x_{3} y_{3}^{3} + 2 x_{4} y_{4}^{3} + 2 x_{5} y_{5}^{3} + 2 x_{6} y_{6}^{3}\\\\x_{1}^{2} y_{1}^{2} + x_{2}^{2} y_{2}^{2} + x_{3}^{2} y_{3}^{2} + x_{4}^{2} y_{4}^{2} + x_{5}^{2} y_{5}^{2} + x_{6}^{2} y_{6}^{2} & 2 x_{1} y_{1}^{3} + 2 x_{2} y_{2}^{3} + 2 x_{3} y_{3}^{3} + 2 x_{4} y_{4}^{3} + 2 x_{5} y_{5}^{3} + 2 x_{6} y_{6}^{3} & y_{1}^{4} + y_{2}^{4} + y_{3}^{4} + y_{4}^{4} + y_{5}^{4} + y_{6}^{4}\\end{matrix}\\right]$"
      ],
      "text/plain": [
       "⎡                 4     4     4     4     4     4                        3    \n",
       "⎢               x₁  + x₂  + x₃  + x₄  + x₅  + x₆                     2⋅x₁ ⋅y₁ \n",
       "⎢                                                                             \n",
       "⎢    3          3          3          3          3          3         2   2   \n",
       "⎢2⋅x₁ ⋅y₁ + 2⋅x₂ ⋅y₂ + 2⋅x₃ ⋅y₃ + 2⋅x₄ ⋅y₄ + 2⋅x₅ ⋅y₅ + 2⋅x₆ ⋅y₆  4⋅x₁ ⋅y₁  + \n",
       "⎢                                                                             \n",
       "⎢     2   2     2   2     2   2     2   2     2   2     2   2               3 \n",
       "⎣   x₁ ⋅y₁  + x₂ ⋅y₂  + x₃ ⋅y₃  + x₄ ⋅y₄  + x₅ ⋅y₅  + x₆ ⋅y₆         2⋅x₁⋅y₁  \n",
       "\n",
       "      3          3          3          3          3             2   2     2   \n",
       "+ 2⋅x₂ ⋅y₂ + 2⋅x₃ ⋅y₃ + 2⋅x₄ ⋅y₄ + 2⋅x₅ ⋅y₅ + 2⋅x₆ ⋅y₆        x₁ ⋅y₁  + x₂ ⋅y₂\n",
       "                                                                              \n",
       "    2   2       2   2       2   2       2   2       2   2         3          3\n",
       "4⋅x₂ ⋅y₂  + 4⋅x₃ ⋅y₃  + 4⋅x₄ ⋅y₄  + 4⋅x₅ ⋅y₅  + 4⋅x₆ ⋅y₆   2⋅x₁⋅y₁  + 2⋅x₂⋅y₂ \n",
       "                                                                              \n",
       "         3          3          3          3          3                      4 \n",
       "+ 2⋅x₂⋅y₂  + 2⋅x₃⋅y₃  + 2⋅x₄⋅y₄  + 2⋅x₅⋅y₅  + 2⋅x₆⋅y₆                     y₁  \n",
       "\n",
       "2     2   2     2   2     2   2     2   2   ⎤\n",
       "  + x₃ ⋅y₃  + x₄ ⋅y₄  + x₅ ⋅y₅  + x₆ ⋅y₆    ⎥\n",
       "                                            ⎥\n",
       "          3          3          3          3⎥\n",
       " + 2⋅x₃⋅y₃  + 2⋅x₄⋅y₄  + 2⋅x₅⋅y₅  + 2⋅x₆⋅y₆ ⎥\n",
       "                                            ⎥\n",
       "    4     4     4     4     4               ⎥\n",
       "+ y₂  + y₃  + y₄  + y₅  + y₆                ⎦"
      ]
     },
     "execution_count": 41,
     "metadata": {},
     "output_type": "execute_result"
    }
   ],
   "source": [
    "(M.T)*M"
   ]
  },
  {
   "cell_type": "code",
   "execution_count": 13,
   "metadata": {},
   "outputs": [
    {
     "data": {
      "text/latex": [
       "$\\displaystyle \\left[\\begin{matrix}1\\\\1\\\\1\\\\1\\\\1\\\\1\\end{matrix}\\right]$"
      ],
      "text/plain": [
       "⎡1⎤\n",
       "⎢ ⎥\n",
       "⎢1⎥\n",
       "⎢ ⎥\n",
       "⎢1⎥\n",
       "⎢ ⎥\n",
       "⎢1⎥\n",
       "⎢ ⎥\n",
       "⎢1⎥\n",
       "⎢ ⎥\n",
       "⎣1⎦"
      ]
     },
     "execution_count": 13,
     "metadata": {},
     "output_type": "execute_result"
    }
   ],
   "source": [
    "b = Matrix( (1,1,1,1,1,1) )\n",
    "b"
   ]
  },
  {
   "cell_type": "code",
   "execution_count": 15,
   "metadata": {},
   "outputs": [
    {
     "data": {
      "text/latex": [
       "$\\displaystyle \\left[\\begin{matrix}x_{1}^{2} + x_{2}^{2} + x_{3}^{2} + x_{4}^{2} + x_{5}^{2} + x_{6}^{2}\\\\2 x_{1} y_{1} + 2 x_{2} y_{2} + 2 x_{3} y_{3} + 2 x_{4} y_{4} + 2 x_{5} y_{5} + 2 x_{6} y_{6}\\\\y_{1}^{2} + y_{2}^{2} + y_{3}^{2} + y_{4}^{2} + y_{5}^{2} + y_{6}^{2}\\end{matrix}\\right]$"
      ],
      "text/plain": [
       "⎡              2     2     2     2     2     2            ⎤\n",
       "⎢            x₁  + x₂  + x₃  + x₄  + x₅  + x₆             ⎥\n",
       "⎢                                                         ⎥\n",
       "⎢2⋅x₁⋅y₁ + 2⋅x₂⋅y₂ + 2⋅x₃⋅y₃ + 2⋅x₄⋅y₄ + 2⋅x₅⋅y₅ + 2⋅x₆⋅y₆⎥\n",
       "⎢                                                         ⎥\n",
       "⎢              2     2     2     2     2     2            ⎥\n",
       "⎣            y₁  + y₂  + y₃  + y₄  + y₅  + y₆             ⎦"
      ]
     },
     "execution_count": 15,
     "metadata": {},
     "output_type": "execute_result"
    }
   ],
   "source": [
    "M.T*b"
   ]
  },
  {
   "cell_type": "code",
   "execution_count": 17,
   "metadata": {},
   "outputs": [
    {
     "data": {
      "image/png": "[encoded data removed]",
      "text/latex": [
       "$\\displaystyle \\left( A, \\  B\\right)$"
      ],
      "text/plain": [
       "(A, B)"
      ]
     },
     "execution_count": 17,
     "metadata": {},
     "output_type": "execute_result"
    }
   ],
   "source": [
    "A=MatrixSymbol('A',3,3)\n",
    "B=MatrixSymbol('B',3,1)\n",
    "A,B"
   ]
  },
  {
   "cell_type": "code",
   "execution_count": 19,
   "metadata": {},
   "outputs": [
    {
     "data": {
      "text/latex": [
       "$\\displaystyle \\left[\\begin{array}{ccc}A_{0, 0} & A_{0, 1} & A_{0, 2}\\\\A_{1, 0} & A_{1, 1} & A_{1, 2}\\\\A_{2, 0} & A_{2, 1} & A_{2, 2}\\end{array}\\right]$"
      ],
      "text/plain": [
       "⎡A₀₀  A₀₁  A₀₂⎤\n",
       "⎢             ⎥\n",
       "⎢A₁₀  A₁₁  A₁₂⎥\n",
       "⎢             ⎥\n",
       "⎣A₂₀  A₂₁  A₂₂⎦"
      ]
     },
     "execution_count": 19,
     "metadata": {},
     "output_type": "execute_result"
    }
   ],
   "source": [
    "Matrix(A)"
   ]
  },
  {
   "cell_type": "code",
   "execution_count": 20,
   "metadata": {},
   "outputs": [
    {
     "data": {
      "text/latex": [
       "$\\displaystyle \\left[\\begin{array}{c}B_{0, 0}\\\\B_{1, 0}\\\\B_{2, 0}\\end{array}\\right]$"
      ],
      "text/plain": [
       "⎡B₀₀⎤\n",
       "⎢   ⎥\n",
       "⎢B₁₀⎥\n",
       "⎢   ⎥\n",
       "⎣B₂₀⎦"
      ]
     },
     "execution_count": 20,
     "metadata": {},
     "output_type": "execute_result"
    }
   ],
   "source": [
    "Matrix(B)"
   ]
  },
  {
   "cell_type": "code",
   "execution_count": 21,
   "metadata": {},
   "outputs": [],
   "source": [
    "A=Matrix(A)\n",
    "B=Matrix(B)"
   ]
  },
  {
   "cell_type": "code",
   "execution_count": 25,
   "metadata": {},
   "outputs": [
    {
     "data": {
      "text/latex": [
       "$\\displaystyle \\left[\\begin{matrix}\\frac{B_{0, 0} - \\frac{\\left(B_{2, 0} - \\frac{A_{2, 0} B_{0, 0}}{A_{0, 0}} - \\frac{\\left(A_{2, 1} - \\frac{A_{0, 1} A_{2, 0}}{A_{0, 0}}\\right) \\left(B_{1, 0} - \\frac{A_{1, 0} B_{0, 0}}{A_{0, 0}}\\right)}{A_{1, 1} - \\frac{A_{0, 1} A_{1, 0}}{A_{0, 0}}}\\right) A_{0, 2}}{A_{2, 2} - \\frac{A_{0, 2} A_{2, 0}}{A_{0, 0}} - \\frac{\\left(A_{1, 2} - \\frac{A_{0, 2} A_{1, 0}}{A_{0, 0}}\\right) \\left(A_{2, 1} - \\frac{A_{0, 1} A_{2, 0}}{A_{0, 0}}\\right)}{A_{1, 1} - \\frac{A_{0, 1} A_{1, 0}}{A_{0, 0}}}} - \\frac{\\left(- \\frac{\\left(A_{1, 2} - \\frac{A_{0, 2} A_{1, 0}}{A_{0, 0}}\\right) \\left(B_{2, 0} - \\frac{A_{2, 0} B_{0, 0}}{A_{0, 0}} - \\frac{\\left(A_{2, 1} - \\frac{A_{0, 1} A_{2, 0}}{A_{0, 0}}\\right) \\left(B_{1, 0} - \\frac{A_{1, 0} B_{0, 0}}{A_{0, 0}}\\right)}{A_{1, 1} - \\frac{A_{0, 1} A_{1, 0}}{A_{0, 0}}}\\right)}{A_{2, 2} - \\frac{A_{0, 2} A_{2, 0}}{A_{0, 0}} - \\frac{\\left(A_{1, 2} - \\frac{A_{0, 2} A_{1, 0}}{A_{0, 0}}\\right) \\left(A_{2, 1} - \\frac{A_{0, 1} A_{2, 0}}{A_{0, 0}}\\right)}{A_{1, 1} - \\frac{A_{0, 1} A_{1, 0}}{A_{0, 0}}}} + B_{1, 0} - \\frac{A_{1, 0} B_{0, 0}}{A_{0, 0}}\\right) A_{0, 1}}{A_{1, 1} - \\frac{A_{0, 1} A_{1, 0}}{A_{0, 0}}}}{A_{0, 0}}\\\\\\frac{- \\frac{\\left(A_{1, 2} - \\frac{A_{0, 2} A_{1, 0}}{A_{0, 0}}\\right) \\left(B_{2, 0} - \\frac{A_{2, 0} B_{0, 0}}{A_{0, 0}} - \\frac{\\left(A_{2, 1} - \\frac{A_{0, 1} A_{2, 0}}{A_{0, 0}}\\right) \\left(B_{1, 0} - \\frac{A_{1, 0} B_{0, 0}}{A_{0, 0}}\\right)}{A_{1, 1} - \\frac{A_{0, 1} A_{1, 0}}{A_{0, 0}}}\\right)}{A_{2, 2} - \\frac{A_{0, 2} A_{2, 0}}{A_{0, 0}} - \\frac{\\left(A_{1, 2} - \\frac{A_{0, 2} A_{1, 0}}{A_{0, 0}}\\right) \\left(A_{2, 1} - \\frac{A_{0, 1} A_{2, 0}}{A_{0, 0}}\\right)}{A_{1, 1} - \\frac{A_{0, 1} A_{1, 0}}{A_{0, 0}}}} + B_{1, 0} - \\frac{A_{1, 0} B_{0, 0}}{A_{0, 0}}}{A_{1, 1} - \\frac{A_{0, 1} A_{1, 0}}{A_{0, 0}}}\\\\\\frac{B_{2, 0} - \\frac{A_{2, 0} B_{0, 0}}{A_{0, 0}} - \\frac{\\left(A_{2, 1} - \\frac{A_{0, 1} A_{2, 0}}{A_{0, 0}}\\right) \\left(B_{1, 0} - \\frac{A_{1, 0} B_{0, 0}}{A_{0, 0}}\\right)}{A_{1, 1} - \\frac{A_{0, 1} A_{1, 0}}{A_{0, 0}}}}{A_{2, 2} - \\frac{A_{0, 2} A_{2, 0}}{A_{0, 0}} - \\frac{\\left(A_{1, 2} - \\frac{A_{0, 2} A_{1, 0}}{A_{0, 0}}\\right) \\left(A_{2, 1} - \\frac{A_{0, 1} A_{2, 0}}{A_{0, 0}}\\right)}{A_{1, 1} - \\frac{A_{0, 1} A_{1, 0}}{A_{0, 0}}}}\\end{matrix}\\right]$"
      ],
      "text/plain": [
       "⎡                                                              ⎛              \n",
       "⎢                                                              ⎜              \n",
       "⎢                                                              ⎜  ⎛      A₀₂⋅A\n",
       "⎢                                                              ⎜  ⎜A₁₂ - ─────\n",
       "⎢                                                              ⎜  ⎝        A₀₀\n",
       "⎢                                                              ⎜              \n",
       "⎢                                                              ⎜              \n",
       "⎢                                                              ⎜- ────────────\n",
       "⎢      ⎛                ⎛      A₀₁⋅A₂₀⎞ ⎛      A₁₀⋅B₀₀⎞⎞       ⎜              \n",
       "⎢      ⎜                ⎜A₂₁ - ───────⎟⋅⎜B₁₀ - ───────⎟⎟       ⎜              \n",
       "⎢      ⎜      A₂₀⋅B₀₀   ⎝        A₀₀  ⎠ ⎝        A₀₀  ⎠⎟       ⎜              \n",
       "⎢      ⎜B₂₀ - ─────── - ───────────────────────────────⎟⋅A₀₂   ⎜           A₂₂\n",
       "⎢      ⎜        A₀₀                    A₀₁⋅A₁₀         ⎟       ⎜              \n",
       "⎢      ⎜                         A₁₁ - ───────         ⎟       ⎜              \n",
       "⎢      ⎝                                 A₀₀           ⎠       ⎝              \n",
       "⎢B₀₀ - ───────────────────────────────────────────────────── - ───────────────\n",
       "⎢                         ⎛      A₀₂⋅A₁₀⎞ ⎛      A₀₁⋅A₂₀⎞                     \n",
       "⎢                         ⎜A₁₂ - ───────⎟⋅⎜A₂₁ - ───────⎟                     \n",
       "⎢               A₀₂⋅A₂₀   ⎝        A₀₀  ⎠ ⎝        A₀₀  ⎠                     \n",
       "⎢         A₂₂ - ─────── - ───────────────────────────────                     \n",
       "⎢                 A₀₀                    A₀₁⋅A₁₀                              \n",
       "⎢                                  A₁₁ - ───────                              \n",
       "⎢                                          A₀₀                                \n",
       "⎢─────────────────────────────────────────────────────────────────────────────\n",
       "⎢                                                                          A₀₀\n",
       "⎢                                                                             \n",
       "⎢                                                    ⎛                ⎛      A\n",
       "⎢                                                    ⎜                ⎜A₂₁ - ─\n",
       "⎢                                    ⎛      A₀₂⋅A₁₀⎞ ⎜      A₂₀⋅B₀₀   ⎝       \n",
       "⎢                                    ⎜A₁₂ - ───────⎟⋅⎜B₂₀ - ─────── - ────────\n",
       "⎢                                    ⎝        A₀₀  ⎠ ⎜        A₀₀             \n",
       "⎢                                                    ⎜                        \n",
       "⎢                                                    ⎝                        \n",
       "⎢                                  - ─────────────────────────────────────────\n",
       "⎢                                                             ⎛      A₀₂⋅A₁₀⎞ \n",
       "⎢                                                             ⎜A₁₂ - ───────⎟⋅\n",
       "⎢                                                   A₀₂⋅A₂₀   ⎝        A₀₀  ⎠ \n",
       "⎢                                             A₂₂ - ─────── - ────────────────\n",
       "⎢                                                     A₀₀                    A\n",
       "⎢                                                                      A₁₁ - ─\n",
       "⎢                                                                             \n",
       "⎢                                  ───────────────────────────────────────────\n",
       "⎢                                                                           A₀\n",
       "⎢                                                                     A₁₁ - ──\n",
       "⎢                                                                             \n",
       "⎢                                                                             \n",
       "⎢                                                                    ⎛      A₀\n",
       "⎢                                                                    ⎜A₂₁ - ──\n",
       "⎢                                                          A₂₀⋅B₀₀   ⎝        \n",
       "⎢                                                    B₂₀ - ─────── - ─────────\n",
       "⎢                                                            A₀₀              \n",
       "⎢                                                                             \n",
       "⎢                                                                             \n",
       "⎢                                                    ─────────────────────────\n",
       "⎢                                                                    ⎛      A₀\n",
       "⎢                                                                    ⎜A₁₂ - ──\n",
       "⎢                                                          A₀₂⋅A₂₀   ⎝        \n",
       "⎢                                                    A₂₂ - ─────── - ─────────\n",
       "⎢                                                            A₀₀              \n",
       "⎢                                                                             \n",
       "⎣                                                                             \n",
       "\n",
       "    ⎛                ⎛      A₀₁⋅A₂₀⎞ ⎛      A₁₀⋅B₀₀⎞⎞                ⎞    ⎤\n",
       "    ⎜                ⎜A₂₁ - ───────⎟⋅⎜B₁₀ - ───────⎟⎟                ⎟    ⎥\n",
       "₁₀⎞ ⎜      A₂₀⋅B₀₀   ⎝        A₀₀  ⎠ ⎝        A₀₀  ⎠⎟                ⎟    ⎥\n",
       "──⎟⋅⎜B₂₀ - ─────── - ───────────────────────────────⎟                ⎟    ⎥\n",
       "  ⎠ ⎜        A₀₀                    A₀₁⋅A₁₀         ⎟                ⎟    ⎥\n",
       "    ⎜                         A₁₁ - ───────         ⎟                ⎟    ⎥\n",
       "    ⎝                                 A₀₀           ⎠         A₁₀⋅B₀₀⎟    ⎥\n",
       "───────────────────────────────────────────────────── + B₁₀ - ───────⎟⋅A₀₁⎥\n",
       "             ⎛      A₀₂⋅A₁₀⎞ ⎛      A₀₁⋅A₂₀⎞                    A₀₀  ⎟    ⎥\n",
       "             ⎜A₁₂ - ───────⎟⋅⎜A₂₁ - ───────⎟                         ⎟    ⎥\n",
       "   A₀₂⋅A₂₀   ⎝        A₀₀  ⎠ ⎝        A₀₀  ⎠                         ⎟    ⎥\n",
       " - ─────── - ───────────────────────────────                         ⎟    ⎥\n",
       "     A₀₀                    A₀₁⋅A₁₀                                  ⎟    ⎥\n",
       "                      A₁₁ - ───────                                  ⎟    ⎥\n",
       "                              A₀₀                                    ⎠    ⎥\n",
       "──────────────────────────────────────────────────────────────────────────⎥\n",
       "                             A₀₁⋅A₁₀                                      ⎥\n",
       "                       A₁₁ - ───────                                      ⎥\n",
       "                               A₀₀                                        ⎥\n",
       "                                                                          ⎥\n",
       "                                                                          ⎥\n",
       "                                                                          ⎥\n",
       "                                                                          ⎥\n",
       "──────────────────────────────────────────────────────────────────────────⎥\n",
       "                                                                          ⎥\n",
       "                                                                          ⎥\n",
       "₀₁⋅A₂₀⎞ ⎛      A₁₀⋅B₀₀⎞⎞                                                  ⎥\n",
       "──────⎟⋅⎜B₁₀ - ───────⎟⎟                                                  ⎥\n",
       " A₀₀  ⎠ ⎝        A₀₀  ⎠⎟                                                  ⎥\n",
       "───────────────────────⎟                                                  ⎥\n",
       "       A₀₁⋅A₁₀         ⎟                                                  ⎥\n",
       " A₁₁ - ───────         ⎟                                                  ⎥\n",
       "         A₀₀           ⎠         A₁₀⋅B₀₀                                  ⎥\n",
       "──────────────────────── + B₁₀ - ───────                                  ⎥\n",
       "⎛      A₀₁⋅A₂₀⎞                    A₀₀                                    ⎥\n",
       "⎜A₂₁ - ───────⎟                                                           ⎥\n",
       "⎝        A₀₀  ⎠                                                           ⎥\n",
       "───────────────                                                           ⎥\n",
       "₀₁⋅A₁₀                                                                    ⎥\n",
       "──────                                                                    ⎥\n",
       " A₀₀                                                                      ⎥\n",
       "────────────────────────────────────────                                  ⎥\n",
       "₁⋅A₁₀                                                                     ⎥\n",
       "─────                                                                     ⎥\n",
       "A₀₀                                                                       ⎥\n",
       "                                                                          ⎥\n",
       "₁⋅A₂₀⎞ ⎛      A₁₀⋅B₀₀⎞                                                    ⎥\n",
       "─────⎟⋅⎜B₁₀ - ───────⎟                                                    ⎥\n",
       "A₀₀  ⎠ ⎝        A₀₀  ⎠                                                    ⎥\n",
       "──────────────────────                                                    ⎥\n",
       "      A₀₁⋅A₁₀                                                             ⎥\n",
       "A₁₁ - ───────                                                             ⎥\n",
       "        A₀₀                                                               ⎥\n",
       "──────────────────────                                                    ⎥\n",
       "₂⋅A₁₀⎞ ⎛      A₀₁⋅A₂₀⎞                                                    ⎥\n",
       "─────⎟⋅⎜A₂₁ - ───────⎟                                                    ⎥\n",
       "A₀₀  ⎠ ⎝        A₀₀  ⎠                                                    ⎥\n",
       "──────────────────────                                                    ⎥\n",
       "      A₀₁⋅A₁₀                                                             ⎥\n",
       "A₁₁ - ───────                                                             ⎥\n",
       "        A₀₀                                                               ⎦"
      ]
     },
     "execution_count": 25,
     "metadata": {},
     "output_type": "execute_result"
    }
   ],
   "source": [
    "x=A.LUsolve(B)\n",
    "x"
   ]
  },
  {
   "cell_type": "code",
   "execution_count": 26,
   "metadata": {},
   "outputs": [
    {
     "data": {
      "image/png": "[encoded data removed]",
      "text/latex": [
       "$\\displaystyle \\left( 3, \\  1\\right)$"
      ],
      "text/plain": [
       "(3, 1)"
      ]
     },
     "execution_count": 26,
     "metadata": {},
     "output_type": "execute_result"
    }
   ],
   "source": [
    "x.shape"
   ]
  },
  {
   "cell_type": "code",
   "execution_count": 28,
   "metadata": {},
   "outputs": [
    {
     "data": {
      "image/png": "[encoded data removed]",
      "text/latex": [
       "$\\displaystyle \\frac{- \\frac{\\left(A_{1, 2} - \\frac{A_{0, 2} A_{1, 0}}{A_{0, 0}}\\right) \\left(B_{2, 0} - \\frac{A_{2, 0} B_{0, 0}}{A_{0, 0}} - \\frac{\\left(A_{2, 1} - \\frac{A_{0, 1} A_{2, 0}}{A_{0, 0}}\\right) \\left(B_{1, 0} - \\frac{A_{1, 0} B_{0, 0}}{A_{0, 0}}\\right)}{A_{1, 1} - \\frac{A_{0, 1} A_{1, 0}}{A_{0, 0}}}\\right)}{A_{2, 2} - \\frac{A_{0, 2} A_{2, 0}}{A_{0, 0}} - \\frac{\\left(A_{1, 2} - \\frac{A_{0, 2} A_{1, 0}}{A_{0, 0}}\\right) \\left(A_{2, 1} - \\frac{A_{0, 1} A_{2, 0}}{A_{0, 0}}\\right)}{A_{1, 1} - \\frac{A_{0, 1} A_{1, 0}}{A_{0, 0}}}} + B_{1, 0} - \\frac{A_{1, 0} B_{0, 0}}{A_{0, 0}}}{A_{1, 1} - \\frac{A_{0, 1} A_{1, 0}}{A_{0, 0}}}$"
      ],
      "text/plain": [
       "                  ⎛                ⎛      A₀₁⋅A₂₀⎞ ⎛      A₁₀⋅B₀₀⎞⎞           \n",
       "                  ⎜                ⎜A₂₁ - ───────⎟⋅⎜B₁₀ - ───────⎟⎟           \n",
       "  ⎛      A₀₂⋅A₁₀⎞ ⎜      A₂₀⋅B₀₀   ⎝        A₀₀  ⎠ ⎝        A₀₀  ⎠⎟           \n",
       "  ⎜A₁₂ - ───────⎟⋅⎜B₂₀ - ─────── - ───────────────────────────────⎟           \n",
       "  ⎝        A₀₀  ⎠ ⎜        A₀₀                    A₀₁⋅A₁₀         ⎟           \n",
       "                  ⎜                         A₁₁ - ───────         ⎟           \n",
       "                  ⎝                                 A₀₀           ⎠         A₁\n",
       "- ───────────────────────────────────────────────────────────────── + B₁₀ - ──\n",
       "                           ⎛      A₀₂⋅A₁₀⎞ ⎛      A₀₁⋅A₂₀⎞                    \n",
       "                           ⎜A₁₂ - ───────⎟⋅⎜A₂₁ - ───────⎟                    \n",
       "                 A₀₂⋅A₂₀   ⎝        A₀₀  ⎠ ⎝        A₀₀  ⎠                    \n",
       "           A₂₂ - ─────── - ───────────────────────────────                    \n",
       "                   A₀₀                    A₀₁⋅A₁₀                             \n",
       "                                    A₁₁ - ───────                             \n",
       "                                            A₀₀                               \n",
       "──────────────────────────────────────────────────────────────────────────────\n",
       "                                         A₀₁⋅A₁₀                              \n",
       "                                   A₁₁ - ───────                              \n",
       "                                           A₀₀                                \n",
       "\n",
       "     \n",
       "     \n",
       "     \n",
       "     \n",
       "     \n",
       "     \n",
       "₀⋅B₀₀\n",
       "─────\n",
       "A₀₀  \n",
       "     \n",
       "     \n",
       "     \n",
       "     \n",
       "     \n",
       "     \n",
       "─────\n",
       "     \n",
       "     \n",
       "     "
      ]
     },
     "execution_count": 28,
     "metadata": {},
     "output_type": "execute_result"
    }
   ],
   "source": [
    "x[1]"
   ]
  },
  {
   "cell_type": "code",
   "execution_count": 31,
   "metadata": {},
   "outputs": [
    {
     "ename": "TypeError",
     "evalue": "'Zero' object is not subscriptable",
     "output_type": "error",
     "traceback": [
      "\u001b[0;31m---------------------------------------------------------------------------\u001b[0m",
      "\u001b[0;31mTypeError\u001b[0m                                 Traceback (most recent call last)",
      "\u001b[0;32m<ipython-input-31-3d968588cf8f>\u001b[0m in \u001b[0;36m<module>\u001b[0;34m\u001b[0m\n\u001b[0;32m----> 1\u001b[0;31m \u001b[0mlinsolve\u001b[0m\u001b[0;34m(\u001b[0m \u001b[0;34m(\u001b[0m\u001b[0mA\u001b[0m\u001b[0;34m,\u001b[0m\u001b[0mB\u001b[0m\u001b[0;34m)\u001b[0m\u001b[0;34m,\u001b[0m \u001b[0;34m[\u001b[0m\u001b[0mx\u001b[0m\u001b[0;34m,\u001b[0m\u001b[0my\u001b[0m\u001b[0;34m,\u001b[0m\u001b[0mz\u001b[0m\u001b[0;34m]\u001b[0m \u001b[0;34m)\u001b[0m\u001b[0;34m\u001b[0m\u001b[0;34m\u001b[0m\u001b[0m\n\u001b[0m",
      "\u001b[0;32m~/bryan/miniconda3/envs/raypier/lib/python3.7/site-packages/sympy/solvers/solveset.py\u001b[0m in \u001b[0;36mlinsolve\u001b[0;34m(system, *symbols)\u001b[0m\n\u001b[1;32m   2594\u001b[0m \u001b[0;34m\u001b[0m\u001b[0m\n\u001b[1;32m   2595\u001b[0m     \u001b[0;32mtry\u001b[0m\u001b[0;34m:\u001b[0m\u001b[0;34m\u001b[0m\u001b[0;34m\u001b[0m\u001b[0m\n\u001b[0;32m-> 2596\u001b[0;31m         \u001b[0msolution\u001b[0m\u001b[0;34m,\u001b[0m \u001b[0mparams\u001b[0m\u001b[0;34m,\u001b[0m \u001b[0mfree_syms\u001b[0m \u001b[0;34m=\u001b[0m \u001b[0mA\u001b[0m\u001b[0;34m.\u001b[0m\u001b[0mgauss_jordan_solve\u001b[0m\u001b[0;34m(\u001b[0m\u001b[0mb\u001b[0m\u001b[0;34m,\u001b[0m \u001b[0mfreevar\u001b[0m\u001b[0;34m=\u001b[0m\u001b[0;32mTrue\u001b[0m\u001b[0;34m)\u001b[0m\u001b[0;34m\u001b[0m\u001b[0;34m\u001b[0m\u001b[0m\n\u001b[0m\u001b[1;32m   2597\u001b[0m     \u001b[0;32mexcept\u001b[0m \u001b[0mValueError\u001b[0m\u001b[0;34m:\u001b[0m\u001b[0;34m\u001b[0m\u001b[0;34m\u001b[0m\u001b[0m\n\u001b[1;32m   2598\u001b[0m         \u001b[0;31m# No solution\u001b[0m\u001b[0;34m\u001b[0m\u001b[0;34m\u001b[0m\u001b[0;34m\u001b[0m\u001b[0m\n",
      "\u001b[0;32m~/bryan/miniconda3/envs/raypier/lib/python3.7/site-packages/sympy/matrices/matrices.py\u001b[0m in \u001b[0;36mgauss_jordan_solve\u001b[0;34m(self, B, freevar)\u001b[0m\n\u001b[1;32m   2210\u001b[0m \u001b[0;34m\u001b[0m\u001b[0m\n\u001b[1;32m   2211\u001b[0m     \u001b[0;32mdef\u001b[0m \u001b[0mgauss_jordan_solve\u001b[0m\u001b[0;34m(\u001b[0m\u001b[0mself\u001b[0m\u001b[0;34m,\u001b[0m \u001b[0mB\u001b[0m\u001b[0;34m,\u001b[0m \u001b[0mfreevar\u001b[0m\u001b[0;34m=\u001b[0m\u001b[0;32mFalse\u001b[0m\u001b[0;34m)\u001b[0m\u001b[0;34m:\u001b[0m\u001b[0;34m\u001b[0m\u001b[0;34m\u001b[0m\u001b[0m\n\u001b[0;32m-> 2212\u001b[0;31m         \u001b[0;32mreturn\u001b[0m \u001b[0m_gauss_jordan_solve\u001b[0m\u001b[0;34m(\u001b[0m\u001b[0mself\u001b[0m\u001b[0;34m,\u001b[0m \u001b[0mB\u001b[0m\u001b[0;34m,\u001b[0m \u001b[0mfreevar\u001b[0m\u001b[0;34m=\u001b[0m\u001b[0mfreevar\u001b[0m\u001b[0;34m)\u001b[0m\u001b[0;34m\u001b[0m\u001b[0;34m\u001b[0m\u001b[0m\n\u001b[0m\u001b[1;32m   2213\u001b[0m \u001b[0;34m\u001b[0m\u001b[0m\n\u001b[1;32m   2214\u001b[0m     \u001b[0;32mdef\u001b[0m \u001b[0mpinv_solve\u001b[0m\u001b[0;34m(\u001b[0m\u001b[0mself\u001b[0m\u001b[0;34m,\u001b[0m \u001b[0mB\u001b[0m\u001b[0;34m,\u001b[0m \u001b[0marbitrary_matrix\u001b[0m\u001b[0;34m=\u001b[0m\u001b[0;32mNone\u001b[0m\u001b[0;34m)\u001b[0m\u001b[0;34m:\u001b[0m\u001b[0;34m\u001b[0m\u001b[0;34m\u001b[0m\u001b[0m\n",
      "\u001b[0;32m~/bryan/miniconda3/envs/raypier/lib/python3.7/site-packages/sympy/matrices/solvers.py\u001b[0m in \u001b[0;36m_gauss_jordan_solve\u001b[0;34m(M, B, freevar)\u001b[0m\n\u001b[1;32m    537\u001b[0m \u001b[0;34m\u001b[0m\u001b[0m\n\u001b[1;32m    538\u001b[0m     \u001b[0;31m# solve by reduced row echelon form\u001b[0m\u001b[0;34m\u001b[0m\u001b[0;34m\u001b[0m\u001b[0;34m\u001b[0m\u001b[0m\n\u001b[0;32m--> 539\u001b[0;31m     \u001b[0mA\u001b[0m\u001b[0;34m,\u001b[0m \u001b[0mpivots\u001b[0m \u001b[0;34m=\u001b[0m \u001b[0maug\u001b[0m\u001b[0;34m.\u001b[0m\u001b[0mrref\u001b[0m\u001b[0;34m(\u001b[0m\u001b[0msimplify\u001b[0m\u001b[0;34m=\u001b[0m\u001b[0;32mTrue\u001b[0m\u001b[0;34m)\u001b[0m\u001b[0;34m\u001b[0m\u001b[0;34m\u001b[0m\u001b[0m\n\u001b[0m\u001b[1;32m    540\u001b[0m     \u001b[0mA\u001b[0m\u001b[0;34m,\u001b[0m \u001b[0mv\u001b[0m      \u001b[0;34m=\u001b[0m \u001b[0mA\u001b[0m\u001b[0;34m[\u001b[0m\u001b[0;34m:\u001b[0m\u001b[0;34m,\u001b[0m \u001b[0;34m:\u001b[0m\u001b[0;34m-\u001b[0m\u001b[0mB_cols\u001b[0m\u001b[0;34m]\u001b[0m\u001b[0;34m,\u001b[0m \u001b[0mA\u001b[0m\u001b[0;34m[\u001b[0m\u001b[0;34m:\u001b[0m\u001b[0;34m,\u001b[0m \u001b[0;34m-\u001b[0m\u001b[0mB_cols\u001b[0m\u001b[0;34m:\u001b[0m\u001b[0;34m]\u001b[0m\u001b[0;34m\u001b[0m\u001b[0;34m\u001b[0m\u001b[0m\n\u001b[1;32m    541\u001b[0m     \u001b[0mpivots\u001b[0m    \u001b[0;34m=\u001b[0m \u001b[0mlist\u001b[0m\u001b[0;34m(\u001b[0m\u001b[0mfilter\u001b[0m\u001b[0;34m(\u001b[0m\u001b[0;32mlambda\u001b[0m \u001b[0mp\u001b[0m\u001b[0;34m:\u001b[0m \u001b[0mp\u001b[0m \u001b[0;34m<\u001b[0m \u001b[0mcol\u001b[0m\u001b[0;34m,\u001b[0m \u001b[0mpivots\u001b[0m\u001b[0;34m)\u001b[0m\u001b[0;34m)\u001b[0m\u001b[0;34m\u001b[0m\u001b[0;34m\u001b[0m\u001b[0m\n",
      "\u001b[0;32m~/bryan/miniconda3/envs/raypier/lib/python3.7/site-packages/sympy/matrices/matrices.py\u001b[0m in \u001b[0;36mrref\u001b[0;34m(self, iszerofunc, simplify, pivots, normalize_last)\u001b[0m\n\u001b[1;32m    162\u001b[0m             normalize_last=True):\n\u001b[1;32m    163\u001b[0m         return _rref(self, iszerofunc=iszerofunc, simplify=simplify,\n\u001b[0;32m--> 164\u001b[0;31m             pivots=pivots, normalize_last=normalize_last)\n\u001b[0m\u001b[1;32m    165\u001b[0m \u001b[0;34m\u001b[0m\u001b[0m\n\u001b[1;32m    166\u001b[0m     \u001b[0mechelon_form\u001b[0m\u001b[0;34m.\u001b[0m\u001b[0m__doc__\u001b[0m \u001b[0;34m=\u001b[0m \u001b[0m_echelon_form\u001b[0m\u001b[0;34m.\u001b[0m\u001b[0m__doc__\u001b[0m\u001b[0;34m\u001b[0m\u001b[0;34m\u001b[0m\u001b[0m\n",
      "\u001b[0;32m~/bryan/miniconda3/envs/raypier/lib/python3.7/site-packages/sympy/matrices/reductions.py\u001b[0m in \u001b[0;36m_rref\u001b[0;34m(M, iszerofunc, simplify, pivots, normalize_last)\u001b[0m\n\u001b[1;32m    304\u001b[0m \u001b[0;34m\u001b[0m\u001b[0m\n\u001b[1;32m    305\u001b[0m     mat, pivot_cols, _ = _row_reduce(M, iszerofunc, simpfunc,\n\u001b[0;32m--> 306\u001b[0;31m             normalize_last, normalize=True, zero_above=True)\n\u001b[0m\u001b[1;32m    307\u001b[0m \u001b[0;34m\u001b[0m\u001b[0m\n\u001b[1;32m    308\u001b[0m     \u001b[0;32mif\u001b[0m \u001b[0mpivots\u001b[0m\u001b[0;34m:\u001b[0m\u001b[0;34m\u001b[0m\u001b[0;34m\u001b[0m\u001b[0m\n",
      "\u001b[0;32m~/bryan/miniconda3/envs/raypier/lib/python3.7/site-packages/sympy/matrices/reductions.py\u001b[0m in \u001b[0;36m_row_reduce\u001b[0;34m(M, iszerofunc, simpfunc, normalize_last, normalize, zero_above)\u001b[0m\n\u001b[1;32m    127\u001b[0m     mat, pivot_cols, swaps = _row_reduce_list(list(M), M.rows, M.cols, M.one,\n\u001b[1;32m    128\u001b[0m             \u001b[0miszerofunc\u001b[0m\u001b[0;34m,\u001b[0m \u001b[0msimpfunc\u001b[0m\u001b[0;34m,\u001b[0m \u001b[0mnormalize_last\u001b[0m\u001b[0;34m=\u001b[0m\u001b[0mnormalize_last\u001b[0m\u001b[0;34m,\u001b[0m\u001b[0;34m\u001b[0m\u001b[0;34m\u001b[0m\u001b[0m\n\u001b[0;32m--> 129\u001b[0;31m             normalize=normalize, zero_above=zero_above)\n\u001b[0m\u001b[1;32m    130\u001b[0m \u001b[0;34m\u001b[0m\u001b[0m\n\u001b[1;32m    131\u001b[0m     \u001b[0;32mreturn\u001b[0m \u001b[0mM\u001b[0m\u001b[0;34m.\u001b[0m\u001b[0m_new\u001b[0m\u001b[0;34m(\u001b[0m\u001b[0mM\u001b[0m\u001b[0;34m.\u001b[0m\u001b[0mrows\u001b[0m\u001b[0;34m,\u001b[0m \u001b[0mM\u001b[0m\u001b[0;34m.\u001b[0m\u001b[0mcols\u001b[0m\u001b[0;34m,\u001b[0m \u001b[0mmat\u001b[0m\u001b[0;34m)\u001b[0m\u001b[0;34m,\u001b[0m \u001b[0mpivot_cols\u001b[0m\u001b[0;34m,\u001b[0m \u001b[0mswaps\u001b[0m\u001b[0;34m\u001b[0m\u001b[0;34m\u001b[0m\u001b[0m\n",
      "\u001b[0;32m~/bryan/miniconda3/envs/raypier/lib/python3.7/site-packages/sympy/matrices/reductions.py\u001b[0m in \u001b[0;36m_row_reduce_list\u001b[0;34m(mat, rows, cols, one, iszerofunc, simpfunc, normalize_last, normalize, zero_above)\u001b[0m\n\u001b[1;32m     67\u001b[0m         \u001b[0mpivot_offset\u001b[0m\u001b[0;34m,\u001b[0m \u001b[0mpivot_val\u001b[0m\u001b[0;34m,\u001b[0m\u001b[0;31m \u001b[0m\u001b[0;31m\\\u001b[0m\u001b[0;34m\u001b[0m\u001b[0;34m\u001b[0m\u001b[0m\n\u001b[1;32m     68\u001b[0m         assumed_nonzero, newly_determined = _find_reasonable_pivot(\n\u001b[0;32m---> 69\u001b[0;31m                 get_col(piv_col)[piv_row:], iszerofunc, simpfunc)\n\u001b[0m\u001b[1;32m     70\u001b[0m \u001b[0;34m\u001b[0m\u001b[0m\n\u001b[1;32m     71\u001b[0m         \u001b[0;31m# _find_reasonable_pivot may have simplified some things\u001b[0m\u001b[0;34m\u001b[0m\u001b[0;34m\u001b[0m\u001b[0;34m\u001b[0m\u001b[0m\n",
      "\u001b[0;32m~/bryan/miniconda3/envs/raypier/lib/python3.7/site-packages/sympy/matrices/determinant.py\u001b[0m in \u001b[0;36m_find_reasonable_pivot\u001b[0;34m(col, iszerofunc, simpfunc)\u001b[0m\n\u001b[1;32m     99\u001b[0m         \u001b[0;32mif\u001b[0m \u001b[0mpossible_zeros\u001b[0m\u001b[0;34m[\u001b[0m\u001b[0mi\u001b[0m\u001b[0;34m]\u001b[0m \u001b[0;32mis\u001b[0m \u001b[0;32mnot\u001b[0m \u001b[0;32mNone\u001b[0m\u001b[0;34m:\u001b[0m\u001b[0;34m\u001b[0m\u001b[0;34m\u001b[0m\u001b[0m\n\u001b[1;32m    100\u001b[0m             \u001b[0;32mcontinue\u001b[0m\u001b[0;34m\u001b[0m\u001b[0;34m\u001b[0m\u001b[0m\n\u001b[0;32m--> 101\u001b[0;31m         \u001b[0;32mif\u001b[0m \u001b[0mx\u001b[0m\u001b[0;34m.\u001b[0m\u001b[0mequals\u001b[0m\u001b[0;34m(\u001b[0m\u001b[0mS\u001b[0m\u001b[0;34m.\u001b[0m\u001b[0mZero\u001b[0m\u001b[0;34m)\u001b[0m\u001b[0;34m:\u001b[0m\u001b[0;34m\u001b[0m\u001b[0;34m\u001b[0m\u001b[0m\n\u001b[0m\u001b[1;32m    102\u001b[0m             \u001b[0;31m# ``.iszero`` may return False with\u001b[0m\u001b[0;34m\u001b[0m\u001b[0;34m\u001b[0m\u001b[0;34m\u001b[0m\u001b[0m\n\u001b[1;32m    103\u001b[0m             \u001b[0;31m# an implicit assumption (e.g., ``x.equals(0)``\u001b[0m\u001b[0;34m\u001b[0m\u001b[0;34m\u001b[0m\u001b[0;34m\u001b[0m\u001b[0m\n",
      "\u001b[0;32m~/bryan/miniconda3/envs/raypier/lib/python3.7/site-packages/sympy/core/expr.py\u001b[0m in \u001b[0;36mequals\u001b[0;34m(self, other, failing_expression)\u001b[0m\n\u001b[1;32m    761\u001b[0m             \u001b[0;32mreturn\u001b[0m \u001b[0;32mFalse\u001b[0m\u001b[0;34m\u001b[0m\u001b[0;34m\u001b[0m\u001b[0m\n\u001b[1;32m    762\u001b[0m \u001b[0;34m\u001b[0m\u001b[0m\n\u001b[0;32m--> 763\u001b[0;31m         \u001b[0mconstant\u001b[0m \u001b[0;34m=\u001b[0m \u001b[0mdiff\u001b[0m\u001b[0;34m.\u001b[0m\u001b[0mis_constant\u001b[0m\u001b[0;34m(\u001b[0m\u001b[0msimplify\u001b[0m\u001b[0;34m=\u001b[0m\u001b[0;32mFalse\u001b[0m\u001b[0;34m,\u001b[0m \u001b[0mfailing_number\u001b[0m\u001b[0;34m=\u001b[0m\u001b[0;32mTrue\u001b[0m\u001b[0;34m)\u001b[0m\u001b[0;34m\u001b[0m\u001b[0;34m\u001b[0m\u001b[0m\n\u001b[0m\u001b[1;32m    764\u001b[0m \u001b[0;34m\u001b[0m\u001b[0m\n\u001b[1;32m    765\u001b[0m         \u001b[0;32mif\u001b[0m \u001b[0mconstant\u001b[0m \u001b[0;32mis\u001b[0m \u001b[0;32mFalse\u001b[0m\u001b[0;34m:\u001b[0m\u001b[0;34m\u001b[0m\u001b[0;34m\u001b[0m\u001b[0m\n",
      "\u001b[0;32m~/bryan/miniconda3/envs/raypier/lib/python3.7/site-packages/sympy/core/expr.py\u001b[0m in \u001b[0;36mis_constant\u001b[0;34m(self, *wrt, **flags)\u001b[0m\n\u001b[1;32m    687\u001b[0m                 \u001b[0;32mexcept\u001b[0m \u001b[0mZeroDivisionError\u001b[0m\u001b[0;34m:\u001b[0m\u001b[0;34m\u001b[0m\u001b[0;34m\u001b[0m\u001b[0m\n\u001b[1;32m    688\u001b[0m                     \u001b[0mb\u001b[0m \u001b[0;34m=\u001b[0m \u001b[0;32mNone\u001b[0m\u001b[0;34m\u001b[0m\u001b[0;34m\u001b[0m\u001b[0m\n\u001b[0;32m--> 689\u001b[0;31m                 \u001b[0;32mif\u001b[0m \u001b[0mb\u001b[0m \u001b[0;32mis\u001b[0m \u001b[0;32mnot\u001b[0m \u001b[0;32mNone\u001b[0m \u001b[0;32mand\u001b[0m \u001b[0mb\u001b[0m \u001b[0;32mis\u001b[0m \u001b[0;32mnot\u001b[0m \u001b[0mS\u001b[0m\u001b[0;34m.\u001b[0m\u001b[0mNaN\u001b[0m \u001b[0;32mand\u001b[0m \u001b[0mb\u001b[0m\u001b[0;34m.\u001b[0m\u001b[0mequals\u001b[0m\u001b[0;34m(\u001b[0m\u001b[0ma\u001b[0m\u001b[0;34m)\u001b[0m \u001b[0;32mis\u001b[0m \u001b[0;32mFalse\u001b[0m\u001b[0;34m:\u001b[0m\u001b[0;34m\u001b[0m\u001b[0;34m\u001b[0m\u001b[0m\n\u001b[0m\u001b[1;32m    690\u001b[0m                     \u001b[0;32mreturn\u001b[0m \u001b[0;32mFalse\u001b[0m\u001b[0;34m\u001b[0m\u001b[0;34m\u001b[0m\u001b[0m\n\u001b[1;32m    691\u001b[0m                 \u001b[0;31m# try random real\u001b[0m\u001b[0;34m\u001b[0m\u001b[0;34m\u001b[0m\u001b[0;34m\u001b[0m\u001b[0m\n",
      "\u001b[0;32m~/bryan/miniconda3/envs/raypier/lib/python3.7/site-packages/sympy/core/expr.py\u001b[0m in \u001b[0;36mequals\u001b[0;34m(self, other, failing_expression)\u001b[0m\n\u001b[1;32m    751\u001b[0m         \u001b[0;31m# because if the expression ever goes to 0 then the subsequent\u001b[0m\u001b[0;34m\u001b[0m\u001b[0;34m\u001b[0m\u001b[0;34m\u001b[0m\u001b[0m\n\u001b[1;32m    752\u001b[0m         \u001b[0;31m# simplification steps that are done will be very fast.\u001b[0m\u001b[0;34m\u001b[0m\u001b[0;34m\u001b[0m\u001b[0;34m\u001b[0m\u001b[0m\n\u001b[0;32m--> 753\u001b[0;31m         \u001b[0mdiff\u001b[0m \u001b[0;34m=\u001b[0m \u001b[0mfactor_terms\u001b[0m\u001b[0;34m(\u001b[0m\u001b[0msimplify\u001b[0m\u001b[0;34m(\u001b[0m\u001b[0mself\u001b[0m \u001b[0;34m-\u001b[0m \u001b[0mother\u001b[0m\u001b[0;34m)\u001b[0m\u001b[0;34m,\u001b[0m \u001b[0mradical\u001b[0m\u001b[0;34m=\u001b[0m\u001b[0;32mTrue\u001b[0m\u001b[0;34m)\u001b[0m\u001b[0;34m\u001b[0m\u001b[0;34m\u001b[0m\u001b[0m\n\u001b[0m\u001b[1;32m    754\u001b[0m \u001b[0;34m\u001b[0m\u001b[0m\n\u001b[1;32m    755\u001b[0m         \u001b[0;32mif\u001b[0m \u001b[0;32mnot\u001b[0m \u001b[0mdiff\u001b[0m\u001b[0;34m:\u001b[0m\u001b[0;34m\u001b[0m\u001b[0;34m\u001b[0m\u001b[0m\n",
      "\u001b[0;32m~/bryan/miniconda3/envs/raypier/lib/python3.7/site-packages/sympy/simplify/simplify.py\u001b[0m in \u001b[0;36msimplify\u001b[0;34m(expr, ratio, measure, rational, inverse, doit, **kwargs)\u001b[0m\n\u001b[1;32m    717\u001b[0m         \u001b[0mexpr\u001b[0m \u001b[0;34m=\u001b[0m \u001b[0mnfloat\u001b[0m\u001b[0;34m(\u001b[0m\u001b[0mexpr\u001b[0m\u001b[0;34m,\u001b[0m \u001b[0mexponent\u001b[0m\u001b[0;34m=\u001b[0m\u001b[0;32mFalse\u001b[0m\u001b[0;34m)\u001b[0m\u001b[0;34m\u001b[0m\u001b[0;34m\u001b[0m\u001b[0m\n\u001b[1;32m    718\u001b[0m \u001b[0;34m\u001b[0m\u001b[0m\n\u001b[0;32m--> 719\u001b[0;31m     \u001b[0;32mreturn\u001b[0m \u001b[0mdone\u001b[0m\u001b[0;34m(\u001b[0m\u001b[0mexpr\u001b[0m\u001b[0;34m)\u001b[0m\u001b[0;34m\u001b[0m\u001b[0;34m\u001b[0m\u001b[0m\n\u001b[0m\u001b[1;32m    720\u001b[0m \u001b[0;34m\u001b[0m\u001b[0m\n\u001b[1;32m    721\u001b[0m \u001b[0;34m\u001b[0m\u001b[0m\n",
      "\u001b[0;32m~/bryan/miniconda3/envs/raypier/lib/python3.7/site-packages/sympy/simplify/simplify.py\u001b[0m in \u001b[0;36mdone\u001b[0;34m(e)\u001b[0m\n\u001b[1;32m    541\u001b[0m \u001b[0;34m\u001b[0m\u001b[0m\n\u001b[1;32m    542\u001b[0m     \u001b[0;32mdef\u001b[0m \u001b[0mdone\u001b[0m\u001b[0;34m(\u001b[0m\u001b[0me\u001b[0m\u001b[0;34m)\u001b[0m\u001b[0;34m:\u001b[0m\u001b[0;34m\u001b[0m\u001b[0;34m\u001b[0m\u001b[0m\n\u001b[0;32m--> 543\u001b[0;31m         \u001b[0mrv\u001b[0m \u001b[0;34m=\u001b[0m \u001b[0me\u001b[0m\u001b[0;34m.\u001b[0m\u001b[0mdoit\u001b[0m\u001b[0;34m(\u001b[0m\u001b[0;34m)\u001b[0m \u001b[0;32mif\u001b[0m \u001b[0mdoit\u001b[0m \u001b[0;32melse\u001b[0m \u001b[0me\u001b[0m\u001b[0;34m\u001b[0m\u001b[0;34m\u001b[0m\u001b[0m\n\u001b[0m\u001b[1;32m    544\u001b[0m         \u001b[0;32mreturn\u001b[0m \u001b[0mshorter\u001b[0m\u001b[0;34m(\u001b[0m\u001b[0mrv\u001b[0m\u001b[0;34m,\u001b[0m \u001b[0mcollect_abs\u001b[0m\u001b[0;34m(\u001b[0m\u001b[0mrv\u001b[0m\u001b[0;34m)\u001b[0m\u001b[0;34m)\u001b[0m\u001b[0;34m\u001b[0m\u001b[0;34m\u001b[0m\u001b[0m\n\u001b[1;32m    545\u001b[0m \u001b[0;34m\u001b[0m\u001b[0m\n",
      "\u001b[0;32m~/bryan/miniconda3/envs/raypier/lib/python3.7/site-packages/sympy/core/operations.py\u001b[0m in \u001b[0;36mdoit\u001b[0;34m(self, **hints)\u001b[0m\n\u001b[1;32m    376\u001b[0m     \u001b[0;32mdef\u001b[0m \u001b[0mdoit\u001b[0m\u001b[0;34m(\u001b[0m\u001b[0mself\u001b[0m\u001b[0;34m,\u001b[0m \u001b[0;34m**\u001b[0m\u001b[0mhints\u001b[0m\u001b[0;34m)\u001b[0m\u001b[0;34m:\u001b[0m\u001b[0;34m\u001b[0m\u001b[0;34m\u001b[0m\u001b[0m\n\u001b[1;32m    377\u001b[0m         \u001b[0;32mif\u001b[0m \u001b[0mhints\u001b[0m\u001b[0;34m.\u001b[0m\u001b[0mget\u001b[0m\u001b[0;34m(\u001b[0m\u001b[0;34m'deep'\u001b[0m\u001b[0;34m,\u001b[0m \u001b[0;32mTrue\u001b[0m\u001b[0;34m)\u001b[0m\u001b[0;34m:\u001b[0m\u001b[0;34m\u001b[0m\u001b[0;34m\u001b[0m\u001b[0m\n\u001b[0;32m--> 378\u001b[0;31m             \u001b[0mterms\u001b[0m \u001b[0;34m=\u001b[0m \u001b[0;34m[\u001b[0m\u001b[0mterm\u001b[0m\u001b[0;34m.\u001b[0m\u001b[0mdoit\u001b[0m\u001b[0;34m(\u001b[0m\u001b[0;34m**\u001b[0m\u001b[0mhints\u001b[0m\u001b[0;34m)\u001b[0m \u001b[0;32mfor\u001b[0m \u001b[0mterm\u001b[0m \u001b[0;32min\u001b[0m \u001b[0mself\u001b[0m\u001b[0;34m.\u001b[0m\u001b[0margs\u001b[0m\u001b[0;34m]\u001b[0m\u001b[0;34m\u001b[0m\u001b[0;34m\u001b[0m\u001b[0m\n\u001b[0m\u001b[1;32m    379\u001b[0m         \u001b[0;32melse\u001b[0m\u001b[0;34m:\u001b[0m\u001b[0;34m\u001b[0m\u001b[0;34m\u001b[0m\u001b[0m\n\u001b[1;32m    380\u001b[0m             \u001b[0mterms\u001b[0m \u001b[0;34m=\u001b[0m \u001b[0mself\u001b[0m\u001b[0;34m.\u001b[0m\u001b[0margs\u001b[0m\u001b[0;34m\u001b[0m\u001b[0;34m\u001b[0m\u001b[0m\n",
      "\u001b[0;32m~/bryan/miniconda3/envs/raypier/lib/python3.7/site-packages/sympy/core/operations.py\u001b[0m in \u001b[0;36m<listcomp>\u001b[0;34m(.0)\u001b[0m\n\u001b[1;32m    376\u001b[0m     \u001b[0;32mdef\u001b[0m \u001b[0mdoit\u001b[0m\u001b[0;34m(\u001b[0m\u001b[0mself\u001b[0m\u001b[0;34m,\u001b[0m \u001b[0;34m**\u001b[0m\u001b[0mhints\u001b[0m\u001b[0;34m)\u001b[0m\u001b[0;34m:\u001b[0m\u001b[0;34m\u001b[0m\u001b[0;34m\u001b[0m\u001b[0m\n\u001b[1;32m    377\u001b[0m         \u001b[0;32mif\u001b[0m \u001b[0mhints\u001b[0m\u001b[0;34m.\u001b[0m\u001b[0mget\u001b[0m\u001b[0;34m(\u001b[0m\u001b[0;34m'deep'\u001b[0m\u001b[0;34m,\u001b[0m \u001b[0;32mTrue\u001b[0m\u001b[0;34m)\u001b[0m\u001b[0;34m:\u001b[0m\u001b[0;34m\u001b[0m\u001b[0;34m\u001b[0m\u001b[0m\n\u001b[0;32m--> 378\u001b[0;31m             \u001b[0mterms\u001b[0m \u001b[0;34m=\u001b[0m \u001b[0;34m[\u001b[0m\u001b[0mterm\u001b[0m\u001b[0;34m.\u001b[0m\u001b[0mdoit\u001b[0m\u001b[0;34m(\u001b[0m\u001b[0;34m**\u001b[0m\u001b[0mhints\u001b[0m\u001b[0;34m)\u001b[0m \u001b[0;32mfor\u001b[0m \u001b[0mterm\u001b[0m \u001b[0;32min\u001b[0m \u001b[0mself\u001b[0m\u001b[0;34m.\u001b[0m\u001b[0margs\u001b[0m\u001b[0;34m]\u001b[0m\u001b[0;34m\u001b[0m\u001b[0;34m\u001b[0m\u001b[0m\n\u001b[0m\u001b[1;32m    379\u001b[0m         \u001b[0;32melse\u001b[0m\u001b[0;34m:\u001b[0m\u001b[0;34m\u001b[0m\u001b[0;34m\u001b[0m\u001b[0m\n\u001b[1;32m    380\u001b[0m             \u001b[0mterms\u001b[0m \u001b[0;34m=\u001b[0m \u001b[0mself\u001b[0m\u001b[0;34m.\u001b[0m\u001b[0margs\u001b[0m\u001b[0;34m\u001b[0m\u001b[0;34m\u001b[0m\u001b[0m\n",
      "\u001b[0;32m~/bryan/miniconda3/envs/raypier/lib/python3.7/site-packages/sympy/core/operations.py\u001b[0m in \u001b[0;36mdoit\u001b[0;34m(self, **hints)\u001b[0m\n\u001b[1;32m    376\u001b[0m     \u001b[0;32mdef\u001b[0m \u001b[0mdoit\u001b[0m\u001b[0;34m(\u001b[0m\u001b[0mself\u001b[0m\u001b[0;34m,\u001b[0m \u001b[0;34m**\u001b[0m\u001b[0mhints\u001b[0m\u001b[0;34m)\u001b[0m\u001b[0;34m:\u001b[0m\u001b[0;34m\u001b[0m\u001b[0;34m\u001b[0m\u001b[0m\n\u001b[1;32m    377\u001b[0m         \u001b[0;32mif\u001b[0m \u001b[0mhints\u001b[0m\u001b[0;34m.\u001b[0m\u001b[0mget\u001b[0m\u001b[0;34m(\u001b[0m\u001b[0;34m'deep'\u001b[0m\u001b[0;34m,\u001b[0m \u001b[0;32mTrue\u001b[0m\u001b[0;34m)\u001b[0m\u001b[0;34m:\u001b[0m\u001b[0;34m\u001b[0m\u001b[0;34m\u001b[0m\u001b[0m\n\u001b[0;32m--> 378\u001b[0;31m             \u001b[0mterms\u001b[0m \u001b[0;34m=\u001b[0m \u001b[0;34m[\u001b[0m\u001b[0mterm\u001b[0m\u001b[0;34m.\u001b[0m\u001b[0mdoit\u001b[0m\u001b[0;34m(\u001b[0m\u001b[0;34m**\u001b[0m\u001b[0mhints\u001b[0m\u001b[0;34m)\u001b[0m \u001b[0;32mfor\u001b[0m \u001b[0mterm\u001b[0m \u001b[0;32min\u001b[0m \u001b[0mself\u001b[0m\u001b[0;34m.\u001b[0m\u001b[0margs\u001b[0m\u001b[0;34m]\u001b[0m\u001b[0;34m\u001b[0m\u001b[0;34m\u001b[0m\u001b[0m\n\u001b[0m\u001b[1;32m    379\u001b[0m         \u001b[0;32melse\u001b[0m\u001b[0;34m:\u001b[0m\u001b[0;34m\u001b[0m\u001b[0;34m\u001b[0m\u001b[0m\n\u001b[1;32m    380\u001b[0m             \u001b[0mterms\u001b[0m \u001b[0;34m=\u001b[0m \u001b[0mself\u001b[0m\u001b[0;34m.\u001b[0m\u001b[0margs\u001b[0m\u001b[0;34m\u001b[0m\u001b[0;34m\u001b[0m\u001b[0m\n",
      "\u001b[0;32m~/bryan/miniconda3/envs/raypier/lib/python3.7/site-packages/sympy/core/operations.py\u001b[0m in \u001b[0;36m<listcomp>\u001b[0;34m(.0)\u001b[0m\n\u001b[1;32m    376\u001b[0m     \u001b[0;32mdef\u001b[0m \u001b[0mdoit\u001b[0m\u001b[0;34m(\u001b[0m\u001b[0mself\u001b[0m\u001b[0;34m,\u001b[0m \u001b[0;34m**\u001b[0m\u001b[0mhints\u001b[0m\u001b[0;34m)\u001b[0m\u001b[0;34m:\u001b[0m\u001b[0;34m\u001b[0m\u001b[0;34m\u001b[0m\u001b[0m\n\u001b[1;32m    377\u001b[0m         \u001b[0;32mif\u001b[0m \u001b[0mhints\u001b[0m\u001b[0;34m.\u001b[0m\u001b[0mget\u001b[0m\u001b[0;34m(\u001b[0m\u001b[0;34m'deep'\u001b[0m\u001b[0;34m,\u001b[0m \u001b[0;32mTrue\u001b[0m\u001b[0;34m)\u001b[0m\u001b[0;34m:\u001b[0m\u001b[0;34m\u001b[0m\u001b[0;34m\u001b[0m\u001b[0m\n\u001b[0;32m--> 378\u001b[0;31m             \u001b[0mterms\u001b[0m \u001b[0;34m=\u001b[0m \u001b[0;34m[\u001b[0m\u001b[0mterm\u001b[0m\u001b[0;34m.\u001b[0m\u001b[0mdoit\u001b[0m\u001b[0;34m(\u001b[0m\u001b[0;34m**\u001b[0m\u001b[0mhints\u001b[0m\u001b[0;34m)\u001b[0m \u001b[0;32mfor\u001b[0m \u001b[0mterm\u001b[0m \u001b[0;32min\u001b[0m \u001b[0mself\u001b[0m\u001b[0;34m.\u001b[0m\u001b[0margs\u001b[0m\u001b[0;34m]\u001b[0m\u001b[0;34m\u001b[0m\u001b[0;34m\u001b[0m\u001b[0m\n\u001b[0m\u001b[1;32m    379\u001b[0m         \u001b[0;32melse\u001b[0m\u001b[0;34m:\u001b[0m\u001b[0;34m\u001b[0m\u001b[0;34m\u001b[0m\u001b[0m\n\u001b[1;32m    380\u001b[0m             \u001b[0mterms\u001b[0m \u001b[0;34m=\u001b[0m \u001b[0mself\u001b[0m\u001b[0;34m.\u001b[0m\u001b[0margs\u001b[0m\u001b[0;34m\u001b[0m\u001b[0;34m\u001b[0m\u001b[0m\n",
      "\u001b[0;32m~/bryan/miniconda3/envs/raypier/lib/python3.7/site-packages/sympy/matrices/expressions/matexpr.py\u001b[0m in \u001b[0;36mdoit\u001b[0;34m(self, **kwargs)\u001b[0m\n\u001b[1;32m    722\u001b[0m         \u001b[0;32melse\u001b[0m\u001b[0;34m:\u001b[0m\u001b[0;34m\u001b[0m\u001b[0;34m\u001b[0m\u001b[0m\n\u001b[1;32m    723\u001b[0m             \u001b[0margs\u001b[0m \u001b[0;34m=\u001b[0m \u001b[0mself\u001b[0m\u001b[0;34m.\u001b[0m\u001b[0margs\u001b[0m\u001b[0;34m\u001b[0m\u001b[0;34m\u001b[0m\u001b[0m\n\u001b[0;32m--> 724\u001b[0;31m         \u001b[0;32mreturn\u001b[0m \u001b[0margs\u001b[0m\u001b[0;34m[\u001b[0m\u001b[0;36m0\u001b[0m\u001b[0;34m]\u001b[0m\u001b[0;34m[\u001b[0m\u001b[0margs\u001b[0m\u001b[0;34m[\u001b[0m\u001b[0;36m1\u001b[0m\u001b[0;34m]\u001b[0m\u001b[0;34m,\u001b[0m \u001b[0margs\u001b[0m\u001b[0;34m[\u001b[0m\u001b[0;36m2\u001b[0m\u001b[0;34m]\u001b[0m\u001b[0;34m]\u001b[0m\u001b[0;34m\u001b[0m\u001b[0;34m\u001b[0m\u001b[0m\n\u001b[0m\u001b[1;32m    725\u001b[0m \u001b[0;34m\u001b[0m\u001b[0m\n\u001b[1;32m    726\u001b[0m     \u001b[0;34m@\u001b[0m\u001b[0mproperty\u001b[0m\u001b[0;34m\u001b[0m\u001b[0;34m\u001b[0m\u001b[0m\n",
      "\u001b[0;31mTypeError\u001b[0m: 'Zero' object is not subscriptable"
     ]
    }
   ],
   "source": [
    "linsolve( (A,B), [x,y,z] )"
   ]
  },
  {
   "cell_type": "code",
   "execution_count": 33,
   "metadata": {},
   "outputs": [
    {
     "data": {
      "text/latex": [
       "$\\displaystyle \\left[\\begin{matrix}1\\\\1\\\\1\\\\1\\\\1\\\\1\\end{matrix}\\right]$"
      ],
      "text/plain": [
       "⎡1⎤\n",
       "⎢ ⎥\n",
       "⎢1⎥\n",
       "⎢ ⎥\n",
       "⎢1⎥\n",
       "⎢ ⎥\n",
       "⎢1⎥\n",
       "⎢ ⎥\n",
       "⎢1⎥\n",
       "⎢ ⎥\n",
       "⎣1⎦"
      ]
     },
     "execution_count": 33,
     "metadata": {},
     "output_type": "execute_result"
    }
   ],
   "source": [
    "b"
   ]
  },
  {
   "cell_type": "code",
   "execution_count": 36,
   "metadata": {},
   "outputs": [
    {
     "name": "stdout",
     "output_type": "stream",
     "text": [
      "e = (B[0, 0] - (B[2, 0] - A[2, 0]*B[0, 0]/A[0, 0] - (A[2, 1] - A[0, 1]*A[2, 0]/A[0, 0])*(B[1, 0] - A[1, 0]*B[0, 0]/A[0, 0])/(A[1, 1] - A[0, 1]*A[1, 0]/A[0, 0]))*A[0, 2]/(A[2, 2] - A[0, 2]*A[2, 0]/A[0, 0] - (A[1, 2] - A[0, 2]*A[1, 0]/A[0, 0])*(A[2, 1] - A[0, 1]*A[2, 0]/A[0, 0])/(A[1, 1] - A[0, 1]*A[1, 0]/A[0, 0])) - (-(A[1, 2] - A[0, 2]*A[1, 0]/A[0, 0])*(B[2, 0] - A[2, 0]*B[0, 0]/A[0, 0] - (A[2, 1] - A[0, 1]*A[2, 0]/A[0, 0])*(B[1, 0] - A[1, 0]*B[0, 0]/A[0, 0])/(A[1, 1] - A[0, 1]*A[1, 0]/A[0, 0]))/(A[2, 2] - A[0, 2]*A[2, 0]/A[0, 0] - (A[1, 2] - A[0, 2]*A[1, 0]/A[0, 0])*(A[2, 1] - A[0, 1]*A[2, 0]/A[0, 0])/(A[1, 1] - A[0, 1]*A[1, 0]/A[0, 0])) + B[1, 0] - A[1, 0]*B[0, 0]/A[0, 0])*A[0, 1]/(A[1, 1] - A[0, 1]*A[1, 0]/A[0, 0]))/A[0, 0]\n"
     ]
    }
   ],
   "source": [
    "sympy.print_python(x[0])"
   ]
  },
  {
   "cell_type": "code",
   "execution_count": 35,
   "metadata": {},
   "outputs": [
    {
     "data": {
      "text/latex": [
       "$\\displaystyle \\left[\\begin{array}{ccc}A_{0, 0} & A_{0, 1} & A_{0, 2}\\\\A_{1, 0} & A_{1, 1} & A_{1, 2}\\\\A_{2, 0} & A_{2, 1} & A_{2, 2}\\end{array}\\right]$"
      ],
      "text/plain": [
       "⎡A₀₀  A₀₁  A₀₂⎤\n",
       "⎢             ⎥\n",
       "⎢A₁₀  A₁₁  A₁₂⎥\n",
       "⎢             ⎥\n",
       "⎣A₂₀  A₂₁  A₂₂⎦"
      ]
     },
     "execution_count": 35,
     "metadata": {},
     "output_type": "execute_result"
    }
   ],
   "source": [
    "A"
   ]
  },
  {
   "cell_type": "code",
   "execution_count": 37,
   "metadata": {},
   "outputs": [
    {
     "data": {
      "image/png": "[encoded data removed]",
      "text/latex": [
       "$\\displaystyle \\left[ \\right]$"
      ],
      "text/plain": [
       "[]"
      ]
     },
     "execution_count": 37,
     "metadata": {},
     "output_type": "execute_result"
    }
   ],
   "source": [
    "sympy.solve( (A,B))"
   ]
  },
  {
   "cell_type": "code",
   "execution_count": 39,
   "metadata": {},
   "outputs": [
    {
     "data": {
      "text/latex": [
       "$\\displaystyle \\left[\\begin{array}{c}B_{0, 0}\\\\B_{1, 0}\\\\B_{2, 0}\\end{array}\\right]$"
      ],
      "text/plain": [
       "⎡B₀₀⎤\n",
       "⎢   ⎥\n",
       "⎢B₁₀⎥\n",
       "⎢   ⎥\n",
       "⎣B₂₀⎦"
      ]
     },
     "execution_count": 39,
     "metadata": {},
     "output_type": "execute_result"
    }
   ],
   "source": [
    "B"
   ]
  },
  {
   "cell_type": "code",
   "execution_count": 42,
   "metadata": {},
   "outputs": [],
   "source": [
    "a00, a01, a02, a11, a12, a22 = symbols(\"a00 a01 a02 a11 a12 a22\")"
   ]
  },
  {
   "cell_type": "code",
   "execution_count": 43,
   "metadata": {},
   "outputs": [],
   "source": [
    "b0, b1, b2 = symbols(\"b0 b1 b2\")"
   ]
  },
  {
   "cell_type": "code",
   "execution_count": 47,
   "metadata": {},
   "outputs": [],
   "source": [
    "x,y,z=symbols(\"x y z\")"
   ]
  },
  {
   "cell_type": "code",
   "execution_count": 49,
   "metadata": {},
   "outputs": [
    {
     "data": {
      "image/png": "[encoded data removed]",
      "text/latex": [
       "$\\displaystyle \\left\\{ x : \\frac{- b_{0} \\left(a_{11} a_{22} - a_{12}^{2}\\right) + b_{1} \\left(a_{01} a_{22} - a_{02} a_{12}\\right) - b_{2} \\left(a_{01} a_{12} - a_{02} a_{11}\\right)}{- a_{00} a_{11} a_{22} + a_{00} a_{12}^{2} + a_{01}^{2} a_{22} - 2 a_{01} a_{02} a_{12} + a_{02}^{2} a_{11}}, \\  y : \\frac{b_{0} \\left(a_{01} a_{22} - a_{02} a_{12}\\right) - b_{1} \\left(a_{00} a_{22} - a_{02}^{2}\\right) + b_{2} \\left(a_{00} a_{12} - a_{01} a_{02}\\right)}{- a_{00} a_{11} a_{22} + a_{00} a_{12}^{2} + a_{01}^{2} a_{22} - 2 a_{01} a_{02} a_{12} + a_{02}^{2} a_{11}}, \\  z : \\frac{- b_{0} \\left(a_{01} a_{12} - a_{02} a_{11}\\right) + b_{1} \\left(a_{00} a_{12} - a_{01} a_{02}\\right) - b_{2} \\left(a_{00} a_{11} - a_{01}^{2}\\right)}{- a_{00} a_{11} a_{22} + a_{00} a_{12}^{2} + a_{01}^{2} a_{22} - 2 a_{01} a_{02} a_{12} + a_{02}^{2} a_{11}}\\right\\}$"
      ],
      "text/plain": [
       "⎧        ⎛             2⎞                                                     \n",
       "⎪   - b₀⋅⎝a₁₁⋅a₂₂ - a₁₂ ⎠ + b₁⋅(a₀₁⋅a₂₂ - a₀₂⋅a₁₂) - b₂⋅(a₀₁⋅a₁₂ - a₀₂⋅a₁₁)   \n",
       "⎨x: ───────────────────────────────────────────────────────────────────────, y\n",
       "⎪                              2      2                          2            \n",
       "⎩        -a₀₀⋅a₁₁⋅a₂₂ + a₀₀⋅a₁₂  + a₀₁ ⋅a₂₂ - 2⋅a₀₁⋅a₀₂⋅a₁₂ + a₀₂ ⋅a₁₁        \n",
       "\n",
       "                              ⎛             2⎞                                \n",
       "  b₀⋅(a₀₁⋅a₂₂ - a₀₂⋅a₁₂) - b₁⋅⎝a₀₀⋅a₂₂ - a₀₂ ⎠ + b₂⋅(a₀₀⋅a₁₂ - a₀₁⋅a₀₂)     -b\n",
       ": ─────────────────────────────────────────────────────────────────────, z: ──\n",
       "                            2      2                          2               \n",
       "      -a₀₀⋅a₁₁⋅a₂₂ + a₀₀⋅a₁₂  + a₀₁ ⋅a₂₂ - 2⋅a₀₁⋅a₀₂⋅a₁₂ + a₀₂ ⋅a₁₁           \n",
       "\n",
       "                                                    ⎛             2⎞⎫\n",
       "₀⋅(a₀₁⋅a₁₂ - a₀₂⋅a₁₁) + b₁⋅(a₀₀⋅a₁₂ - a₀₁⋅a₀₂) - b₂⋅⎝a₀₀⋅a₁₁ - a₀₁ ⎠⎪\n",
       "────────────────────────────────────────────────────────────────────⎬\n",
       "                        2      2                          2         ⎪\n",
       "  -a₀₀⋅a₁₁⋅a₂₂ + a₀₀⋅a₁₂  + a₀₁ ⋅a₂₂ - 2⋅a₀₁⋅a₀₂⋅a₁₂ + a₀₂ ⋅a₁₁     ⎭"
      ]
     },
     "execution_count": 49,
     "metadata": {},
     "output_type": "execute_result"
    }
   ],
   "source": [
    "ret = solve( [a00*x + a01*y + a02*z - b0, a01*x + a11*y + a12*z - b1, a02*x + a12*y + a22*z - b2], x, y, z)\n",
    "ret"
   ]
  },
  {
   "cell_type": "code",
   "execution_count": 55,
   "metadata": {},
   "outputs": [
    {
     "name": "stdout",
     "output_type": "stream",
     "text": [
      "b0 = Symbol('b0')\n",
      "a01 = Symbol('a01')\n",
      "a12 = Symbol('a12')\n",
      "a02 = Symbol('a02')\n",
      "a11 = Symbol('a11')\n",
      "b1 = Symbol('b1')\n",
      "a00 = Symbol('a00')\n",
      "b2 = Symbol('b2')\n",
      "a22 = Symbol('a22')\n",
      "e = (-b0*(a01*a12 - a02*a11) + b1*(a00*a12 - a01*a02) - b2*(a00*a11 - a01**2))/(-a00*a11*a22 + a00*a12**2 + a01**2*a22 - 2*a01*a02*a12 + a02**2*a11)\n"
     ]
    }
   ],
   "source": [
    "print_python(ret[z])"
   ]
  },
  {
   "cell_type": "code",
   "execution_count": 56,
   "metadata": {},
   "outputs": [
    {
     "data": {
      "text/latex": [
       "$\\displaystyle \\left[\\begin{matrix}x_{1} & y_{1} & 0\\\\0 & x_{1} & y_{1}\\\\x_{2} & y_{2} & 0\\\\0 & x_{2} & y_{2}\\\\x_{3} & y_{3} & 0\\\\0 & x_{3} & y_{3}\\\\x_{4} & y_{4} & 0\\\\0 & x_{4} & y_{4}\\\\x_{5} & y_{5} & 0\\\\0 & x_{5} & y_{5}\\\\x_{6} & y_{6} & 0\\\\0 & x_{6} & y_{6}\\end{matrix}\\right]$"
      ],
      "text/plain": [
       "⎡x₁  y₁  0 ⎤\n",
       "⎢          ⎥\n",
       "⎢0   x₁  y₁⎥\n",
       "⎢          ⎥\n",
       "⎢x₂  y₂  0 ⎥\n",
       "⎢          ⎥\n",
       "⎢0   x₂  y₂⎥\n",
       "⎢          ⎥\n",
       "⎢x₃  y₃  0 ⎥\n",
       "⎢          ⎥\n",
       "⎢0   x₃  y₃⎥\n",
       "⎢          ⎥\n",
       "⎢x₄  y₄  0 ⎥\n",
       "⎢          ⎥\n",
       "⎢0   x₄  y₄⎥\n",
       "⎢          ⎥\n",
       "⎢x₅  y₅  0 ⎥\n",
       "⎢          ⎥\n",
       "⎢0   x₅  y₅⎥\n",
       "⎢          ⎥\n",
       "⎢x₆  y₆  0 ⎥\n",
       "⎢          ⎥\n",
       "⎣0   x₆  y₆⎦"
      ]
     },
     "execution_count": 56,
     "metadata": {},
     "output_type": "execute_result"
    }
   ],
   "source": [
    "M = Matrix( ( \n",
    "            (x1, y1, 0),\n",
    "            (0, x1, y1),\n",
    "            (x2, y2, 0),\n",
    "            (0, x2, y2),\n",
    "            (x3, y3, 0),\n",
    "            (0, x3, y3),\n",
    "            (x4, y4, 0),\n",
    "            (0, x4, y4),\n",
    "            (x5, y5, 0),\n",
    "            (0, x5, y5),\n",
    "            (x6, y6, 0),\n",
    "            (0, x6, y6),\n",
    "            ))\n",
    "M"
   ]
  },
  {
   "cell_type": "code",
   "execution_count": 57,
   "metadata": {},
   "outputs": [
    {
     "data": {
      "text/latex": [
       "$\\displaystyle \\left[\\begin{matrix}x_{1}^{2} + x_{2}^{2} + x_{3}^{2} + x_{4}^{2} + x_{5}^{2} + x_{6}^{2} & x_{1} y_{1} + x_{2} y_{2} + x_{3} y_{3} + x_{4} y_{4} + x_{5} y_{5} + x_{6} y_{6} & 0\\\\x_{1} y_{1} + x_{2} y_{2} + x_{3} y_{3} + x_{4} y_{4} + x_{5} y_{5} + x_{6} y_{6} & x_{1}^{2} + x_{2}^{2} + x_{3}^{2} + x_{4}^{2} + x_{5}^{2} + x_{6}^{2} + y_{1}^{2} + y_{2}^{2} + y_{3}^{2} + y_{4}^{2} + y_{5}^{2} + y_{6}^{2} & x_{1} y_{1} + x_{2} y_{2} + x_{3} y_{3} + x_{4} y_{4} + x_{5} y_{5} + x_{6} y_{6}\\\\0 & x_{1} y_{1} + x_{2} y_{2} + x_{3} y_{3} + x_{4} y_{4} + x_{5} y_{5} + x_{6} y_{6} & y_{1}^{2} + y_{2}^{2} + y_{3}^{2} + y_{4}^{2} + y_{5}^{2} + y_{6}^{2}\\end{matrix}\\right]$"
      ],
      "text/plain": [
       "⎡        2     2     2     2     2     2                                      \n",
       "⎢      x₁  + x₂  + x₃  + x₄  + x₅  + x₆                     x₁⋅y₁ + x₂⋅y₂ + x₃\n",
       "⎢                                                                             \n",
       "⎢                                                 2     2     2     2     2   \n",
       "⎢x₁⋅y₁ + x₂⋅y₂ + x₃⋅y₃ + x₄⋅y₄ + x₅⋅y₅ + x₆⋅y₆  x₁  + x₂  + x₃  + x₄  + x₅  + \n",
       "⎢                                                                             \n",
       "⎢                                                                             \n",
       "⎣                      0                                    x₁⋅y₁ + x₂⋅y₂ + x₃\n",
       "\n",
       "                                                                              \n",
       "⋅y₃ + x₄⋅y₄ + x₅⋅y₅ + x₆⋅y₆                                    0              \n",
       "                                                                              \n",
       "  2     2     2     2     2     2     2                                       \n",
       "x₆  + y₁  + y₂  + y₃  + y₄  + y₅  + y₆   x₁⋅y₁ + x₂⋅y₂ + x₃⋅y₃ + x₄⋅y₄ + x₅⋅y₅\n",
       "                                                                              \n",
       "                                                 2     2     2     2     2    \n",
       "⋅y₃ + x₄⋅y₄ + x₅⋅y₅ + x₆⋅y₆                    y₁  + y₂  + y₃  + y₄  + y₅  + y\n",
       "\n",
       "        ⎤\n",
       "        ⎥\n",
       "        ⎥\n",
       "        ⎥\n",
       " + x₆⋅y₆⎥\n",
       "        ⎥\n",
       " 2      ⎥\n",
       "₆       ⎦"
      ]
     },
     "execution_count": 57,
     "metadata": {},
     "output_type": "execute_result"
    }
   ],
   "source": [
    "(M.T)*M"
   ]
  },
  {
   "cell_type": "code",
   "execution_count": 59,
   "metadata": {},
   "outputs": [
    {
     "data": {
      "text/latex": [
       "$\\displaystyle \\left[\\begin{matrix}dx_{0}\\\\dy_{0}\\\\dx_{1}\\\\dy_{1}\\\\dx_{2}\\\\dy_{2}\\\\dx_{3}\\\\dy_{3}\\\\dx_{4}\\\\dy_{4}\\\\dx_{5}\\\\dy_{5}\\end{matrix}\\right]$"
      ],
      "text/plain": [
       "⎡dx₀⎤\n",
       "⎢   ⎥\n",
       "⎢dy₀⎥\n",
       "⎢   ⎥\n",
       "⎢dx₁⎥\n",
       "⎢   ⎥\n",
       "⎢dy₁⎥\n",
       "⎢   ⎥\n",
       "⎢dx₂⎥\n",
       "⎢   ⎥\n",
       "⎢dy₂⎥\n",
       "⎢   ⎥\n",
       "⎢dx₃⎥\n",
       "⎢   ⎥\n",
       "⎢dy₃⎥\n",
       "⎢   ⎥\n",
       "⎢dx₄⎥\n",
       "⎢   ⎥\n",
       "⎢dy₄⎥\n",
       "⎢   ⎥\n",
       "⎢dx₅⎥\n",
       "⎢   ⎥\n",
       "⎣dy₅⎦"
      ]
     },
     "execution_count": 59,
     "metadata": {},
     "output_type": "execute_result"
    }
   ],
   "source": [
    "dx0, dx1, dx2, dx3, dx4, dx5 = symbols(\"dx0 dx1 dx2 dx3 dx4 dx5\")\n",
    "dy0, dy1, dy2, dy3, dy4, dy5 = symbols(\"dy0 dy1 dy2 dy3 dy4 dy5\")\n",
    "\n",
    "b = Matrix( [dx0, dy0, dx1, dy1, dx2, dy2, dx3, dy3, dx4, dy4, dx5, dy5] )\n",
    "b"
   ]
  },
  {
   "cell_type": "code",
   "execution_count": 60,
   "metadata": {},
   "outputs": [
    {
     "data": {
      "text/latex": [
       "$\\displaystyle \\left[\\begin{matrix}dx_{0} x_{1} + dx_{1} x_{2} + dx_{2} x_{3} + dx_{3} x_{4} + dx_{4} x_{5} + dx_{5} x_{6}\\\\dx_{0} y_{1} + dx_{1} y_{2} + dx_{2} y_{3} + dx_{3} y_{4} + dx_{4} y_{5} + dx_{5} y_{6} + dy_{0} x_{1} + dy_{1} x_{2} + dy_{2} x_{3} + dy_{3} x_{4} + dy_{4} x_{5} + dy_{5} x_{6}\\\\dy_{0} y_{1} + dy_{1} y_{2} + dy_{2} y_{3} + dy_{3} y_{4} + dy_{4} y_{5} + dy_{5} y_{6}\\end{matrix}\\right]$"
      ],
      "text/plain": [
       "⎡                           dx₀⋅x₁ + dx₁⋅x₂ + dx₂⋅x₃ + dx₃⋅x₄ + dx₄⋅x₅ + dx₅⋅x\n",
       "⎢                                                                             \n",
       "⎢dx₀⋅y₁ + dx₁⋅y₂ + dx₂⋅y₃ + dx₃⋅y₄ + dx₄⋅y₅ + dx₅⋅y₆ + dy₀⋅x₁ + dy₁⋅x₂ + dy₂⋅x\n",
       "⎢                                                                             \n",
       "⎣                           dy₀⋅y₁ + dy₁⋅y₂ + dy₂⋅y₃ + dy₃⋅y₄ + dy₄⋅y₅ + dy₅⋅y\n",
       "\n",
       "₆                           ⎤\n",
       "                            ⎥\n",
       "₃ + dy₃⋅x₄ + dy₄⋅x₅ + dy₅⋅x₆⎥\n",
       "                            ⎥\n",
       "₆                           ⎦"
      ]
     },
     "execution_count": 60,
     "metadata": {},
     "output_type": "execute_result"
    }
   ],
   "source": [
    "(M.T)*b"
   ]
  },
  {
   "cell_type": "code",
   "execution_count": 61,
   "metadata": {},
   "outputs": [
    {
     "data": {
      "image/png": "[encoded data removed]",
      "text/latex": [
       "$\\displaystyle \\left\\{ x : \\frac{- a_{01}^{2} b_{2} + a_{01} a_{22} b_{1} + b_{0} \\left(a_{01}^{2} - a_{11} a_{22}\\right)}{a_{00} a_{01}^{2} - a_{00} a_{11} a_{22} + a_{01}^{2} a_{22}}, \\  y : \\frac{a_{00} a_{01} b_{2} - a_{00} a_{22} b_{1} + a_{01} a_{22} b_{0}}{a_{00} a_{01}^{2} - a_{00} a_{11} a_{22} + a_{01}^{2} a_{22}}, \\  z : \\frac{a_{00} a_{01} b_{1} - a_{01}^{2} b_{0} - b_{2} \\left(a_{00} a_{11} - a_{01}^{2}\\right)}{a_{00} a_{01}^{2} - a_{00} a_{11} a_{22} + a_{01}^{2} a_{22}}\\right\\}$"
      ],
      "text/plain": [
       "⎧        2                      ⎛   2          ⎞                              \n",
       "⎪   - a₀₁ ⋅b₂ + a₀₁⋅a₂₂⋅b₁ + b₀⋅⎝a₀₁  - a₁₁⋅a₂₂⎠     a₀₀⋅a₀₁⋅b₂ - a₀₀⋅a₂₂⋅b₁ +\n",
       "⎨x: ────────────────────────────────────────────, y: ─────────────────────────\n",
       "⎪               2                    2                       2                \n",
       "⎩        a₀₀⋅a₀₁  - a₀₀⋅a₁₁⋅a₂₂ + a₀₁ ⋅a₂₂            a₀₀⋅a₀₁  - a₀₀⋅a₁₁⋅a₂₂ +\n",
       "\n",
       "                                2         ⎛             2⎞⎫\n",
       " a₀₁⋅a₂₂⋅b₀     a₀₀⋅a₀₁⋅b₁ - a₀₁ ⋅b₀ - b₂⋅⎝a₀₀⋅a₁₁ - a₀₁ ⎠⎪\n",
       "───────────, z: ──────────────────────────────────────────⎬\n",
       "    2                      2                    2         ⎪\n",
       " a₀₁ ⋅a₂₂           a₀₀⋅a₀₁  - a₀₀⋅a₁₁⋅a₂₂ + a₀₁ ⋅a₂₂     ⎭"
      ]
     },
     "execution_count": 61,
     "metadata": {},
     "output_type": "execute_result"
    }
   ],
   "source": [
    "ret = solve( [a00*x + a01*y - b0, a01*x + a11*y + a01*z - b1, a01*y + a22*z - b2], x, y, z)\n",
    "ret"
   ]
  },
  {
   "cell_type": "code",
   "execution_count": 64,
   "metadata": {},
   "outputs": [
    {
     "name": "stdout",
     "output_type": "stream",
     "text": [
      "a00 = Symbol('a00')\n",
      "a01 = Symbol('a01')\n",
      "b1 = Symbol('b1')\n",
      "b0 = Symbol('b0')\n",
      "b2 = Symbol('b2')\n",
      "a11 = Symbol('a11')\n",
      "a22 = Symbol('a22')\n",
      "e = (a00*a01*b1 - a01**2*b0 - b2*(a00*a11 - a01**2))/(a00*a01**2 - a00*a11*a22 + a01**2*a22)\n"
     ]
    }
   ],
   "source": [
    "print_python(ret[z])"
   ]
  },
  {
   "cell_type": "code",
   "execution_count": 71,
   "metadata": {},
   "outputs": [
    {
     "data": {
      "image/png": "[encoded data removed]",
      "text/latex": [
       "$\\displaystyle 16$"
      ],
      "text/plain": [
       "16"
      ]
     },
     "execution_count": 71,
     "metadata": {},
     "output_type": "execute_result"
    }
   ],
   "source": [
    "int(2**numpy.ceil(numpy.log2(9)))"
   ]
  },
  {
   "cell_type": "code",
   "execution_count": 72,
   "metadata": {},
   "outputs": [
    {
     "data": {
      "image/png": "[encoded data removed]",
      "text/latex": [
       "$\\displaystyle 512$"
      ],
      "text/plain": [
       "512"
      ]
     },
     "execution_count": 72,
     "metadata": {},
     "output_type": "execute_result"
    }
   ],
   "source": [
    "128*4\n"
   ]
  },
  {
   "cell_type": "code",
   "execution_count": 76,
   "metadata": {},
   "outputs": [],
   "source": [
    "test = numpy.empty((2,1024,1024), dtype=numpy.complex128)"
   ]
  },
  {
   "cell_type": "code",
   "execution_count": 74,
   "metadata": {},
   "outputs": [],
   "source": [
    "from numpy import fft"
   ]
  },
  {
   "cell_type": "code",
   "execution_count": 79,
   "metadata": {},
   "outputs": [],
   "source": [
    "out = fft.fft2(test)"
   ]
  },
  {
   "cell_type": "code",
   "execution_count": 80,
   "metadata": {},
   "outputs": [
    {
     "data": {
      "image/png": "[encoded data removed]",
      "text/latex": [
       "$\\displaystyle \\left( 2, \\  1024, \\  1024\\right)$"
      ],
      "text/plain": [
       "(2, 1024, 1024)"
      ]
     },
     "execution_count": 80,
     "metadata": {},
     "output_type": "execute_result"
    }
   ],
   "source": [
    "out.shape"
   ]
  },
  {
   "cell_type": "code",
   "execution_count": null,
   "metadata": {},
   "outputs": [],
   "source": []
  }
 ],
 "metadata": {
  "kernelspec": {
   "display_name": "Python [conda env:raypier]",
   "language": "python",
   "name": "conda-env-raypier-py"
  },
  "language_info": {
   "codemirror_mode": {
    "name": "ipython",
    "version": 3
   },
   "file_extension": ".py",
   "mimetype": "text/x-python",
   "name": "python",
   "nbconvert_exporter": "python",
   "pygments_lexer": "ipython3",
   "version": "3.7.9"
  }
 },
 "nbformat": 4,
 "nbformat_minor": 4
}
