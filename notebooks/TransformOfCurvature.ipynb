{
 "cells": [
  {
   "cell_type": "code",
   "execution_count": 1,
   "metadata": {},
   "outputs": [
    {
     "name": "stdout",
     "output_type": "stream",
     "text": [
      "IPython console for SymPy 1.7.1 (Python 3.7.9-64-bit) (ground types: gmpy)\n",
      "\n",
      "These commands were executed:\n",
      ">>> from __future__ import division\n",
      ">>> from sympy import *\n",
      ">>> x, y, z, t = symbols('x y z t')\n",
      ">>> k, m, n = symbols('k m n', integer=True)\n",
      ">>> f, g, h = symbols('f g h', cls=Function)\n",
      ">>> init_printing()\n",
      "\n",
      "Documentation can be found at https://docs.sympy.org/1.7.1/\n",
      "\n"
     ]
    }
   ],
   "source": [
    "import sympy\n",
    "\n",
    "sympy.init_session()"
   ]
  },
  {
   "cell_type": "markdown",
   "metadata": {},
   "source": [
    "# Problem\n",
    "\n",
    "We have a function of two variable which describes a surface\n",
    "\n",
    "$z = f(x,y)$\n",
    "\n",
    "This function is twice differentiable (i.e. smooth). We can thus evaluate the first and second derivatives of this surface. We wish to pick an arbitrary point on the surface and define a new coordinate system at this point, such that the new z' axis represents the surface normal vector. The new x' and y' axes are orthogonal vectors to z' and each other.\n",
    "\n",
    "The problem is how to obtain expressions for the surface curvature at that point, in the new local coordinate system. I.e. we want $\\frac{d^2 z'}{{dx'}^2}, \\frac{d^2 z'}{dx'dy'} and \\frac{d^2 z'}{{dy'}^2}$ but we need these in terms of the curvature of the surface in the original coordinate system, I.e. $\\frac{d^2 z}{{dx}^2}, \\frac{d^2 z}{dx dy} and \\frac{d^2 z}{{dy}^2}$.\n",
    "\n",
    "# Solution\n",
    "\n",
    "We being by expressing the surface in implicit form:\n",
    "\n",
    "$ F(x,y,z) = f(x,y) - z = 0 $\n",
    "\n",
    "We also describe the linear transform which maps the original coordinates x,y,z to the local ones x', y', z' as a matrix A. I.e.\n",
    "\n",
    "$ \\bar{r'} = A \\bar{r} $\n",
    "\n",
    "where $\\bar{r}$ is the vector (x,y,z) etc.\n",
    "\n",
    "The elements of A can easily be found by taking dot-products with the three new basis vectors. Since A is a linear\n",
    "transform, its inverse performs the reverse map. Let the inverse of A be called B I.e.\n",
    "\n",
    "$ B = A^{-1} $\n",
    "\n",
    "$ \\bar{r} = B \\bar{r'} $\n",
    "\n",
    "We can define the surface in the new coordinate system as another implicit function:\n",
    "\n",
    "$ F'(x', y', z') = 0 $\n",
    "\n",
    "We ca see that \n",
    "\n",
    "$ F' = F(B \\bar{r'}) = 0 $\n",
    "\n",
    "We can get the Jacobian (1st derivative) and Hessian (2nd derivative) of F' using the chain-rule:\n",
    "\n",
    "Jacobian: $ J(F') = \\nabla F' = B^T \\nabla F  = B^T J(F)$\n",
    "\n",
    "Hessian: $ H(F') = \\nabla \\times \\nabla F' = B^T (\\nabla \\times \\nabla F) B  = B^T H(F) B $\n",
    "\n",
    "We don't use the symbol $\\nabla^2$ to avoid confusion with the Laplacian operator. \n",
    "\n",
    "So, now we can obtain the Hessian of F' by transformation of the Hessian on F. The Hessian of F is simply the Hessian of f (which we are given) with the 3rd column/rows (2nd derivatives w.r.t. z) being zero.\n",
    "\n",
    "Having got the Hessian for F' , we now return to considering the surface, $F'(x',y',z')=0$.\n",
    "\n",
    "We require that the total derivative of F' be zero:\n",
    "\n",
    "$ \\Delta F' = \\frac{\\partial F'}{\\partial x'} \\Delta x' + \\frac{\\partial F'}{\\partial y'} \\Delta y' + \\frac{\\partial F'}{\\partial z'} \\Delta z' = 0 $\n",
    "\n",
    "If we choose to hold $y'$ constant, i.e. $\\Delta y' = 0$, then divide through by $\\Delta x'$ and take the\n",
    "limit as $\\Delta z' \\rightarrow 0$, we find\n",
    "\n",
    "$ \\frac{\\partial F'}{\\partial x'} + \\frac{\\partial F'}{\\partial z'} \\frac{dz'}{dx'} = 0$\n",
    "\n",
    "Rearranging, we get\n",
    "\n",
    "$ \\frac{dz'}{dx'} = -\\frac{( \\frac{\\partial F'}{\\partial x'} )}{( \\frac{\\partial F'}{\\partial z'} )} $\n",
    "\n",
    "Similarly, by holding $\\Delta x'$ constant, we get:\n",
    "\n",
    "$ \\frac{dz'}{dy'} = -\\frac{( \\frac{\\partial F'}{\\partial y'} )}{( \\frac{\\partial F'}{\\partial z'} )} $\n",
    "\n",
    "To get the second derivatives, we differentiate these two expressions w.r.t. x' and y':\n",
    "\n",
    "$ \\frac{d^2 z'}{{dx'}^2} = -\\frac{( \\frac{\\partial^2 F'}{{\\partial x'}^2} )}{( \\frac{\\partial F'}{\\partial z'} )} \n",
    "        + \\frac{( \\frac{\\partial F'}{\\partial x'} )}{( \\frac{\\partial F'}{\\partial z'} )^2} \\frac{\\partial^2 F'}{\\partial x' \\partial z'} $\n",
    "\n",
    "Now, our *particular* choice of linear transform has set $\\frac{dz'}{dx'}$ and $\\frac{dz'}{dy'}$ to both be \n",
    "zero at the point of interest (x'=0. y'=0). This simplifies things a lot as we can drop the second term in the second derivative since this also means $\\frac{\\partial F'}{\\partial x'} = 0$ and $\\frac{\\partial F'}{\\partial y'} = 0$ at the origin.\n",
    "\n",
    "Thus we end up with \n",
    "\n",
    "$ \\frac{d^2 z'}{{dx'}^2} = -\\frac{( \\frac{\\partial^2 F'}{{\\partial x'}^2} )}{( \\frac{\\partial F'}{\\partial z'} )} $\n",
    "\n",
    "$ \\frac{d^2 z'}{dx'dy'} = -\\frac{( \\frac{\\partial^2 F'}{\\partial x' \\partial y'} )}{( \\frac{\\partial F'}{\\partial z'} )} $\n",
    "\n",
    "$ \\frac{d^2 z'}{{dy'}^2} = -\\frac{( \\frac{\\partial^2 F'}{{\\partial y'}^2} )}{( \\frac{\\partial F'}{\\partial z'} )} $\n"
   ]
  },
  {
   "cell_type": "markdown",
   "metadata": {},
   "source": [
    "## Jacobian Term\n",
    "\n",
    "Going back to the expression for the Jacobian:\n",
    "\n",
    "$ J(F') = \\nabla F' = B^T \\nabla F  = B^T J(F)$\n",
    "\n",
    "In fact, the use of the transpose is confusing to me. The Jacobian of a scalar function of 3 variable is a 3-vector. Let's say this is a row-vector. I don't see how matrix multiplication with the B-transform in front of the Jacobian works. \n",
    "\n",
    "Since I only need one term from the Jacobian, I'll work this out explicitly, and leave the question of to-transpose-or-not-to-transpose for someone else to figure out.\n",
    "\n",
    "Since $F'(x',y',z') = F(x,y,z)$ we can say\n",
    "\n",
    "$ \\frac{\\partial F'}{\\partial z'} = \\frac{\\partial F}{\\partial x} \\frac{\\partial x}{\\partial z'} + \n",
    "                                \\frac{\\partial F}{\\partial y} \\frac{\\partial y}{\\partial z'} + \n",
    "                                \\frac{\\partial F}{\\partial z} \\frac{\\partial z}{\\partial z'} $\n",
    "                                \n",
    "Looking at our coordinate transform:\n",
    "\n",
    "$\\begin{bmatrix} x\\\\y\\\\z\\\\1 \\end{bmatrix} = \\begin{bmatrix}a_x & b_x & c_x & o_x \\\\\n",
    "                                            a_y & b_y & c_y & o_y \\\\\n",
    "                                            a_z & b_z & c_z & o_z \\\\\n",
    "                                            0 & 0 & 0 & 1 \\end{bmatrix}\n",
    "                                            \\begin{bmatrix} x'\\\\y'\\\\z'\\\\1 \\end{bmatrix}\n",
    "                                            $\n",
    "                                            \n",
    "Thus, $\\frac{dx}{dz'} = c_x$, $\\frac{dy}{dz'} = c_y$ and $\\frac{dz}{dz'} = c_z$, where the vector $\\bar{c}$ is the basis vector for the z' direction, and happens to be the normal vector for the surface at our point of interest. The other vectors, $\\bar{a}$ and $\\bar{b}$ are the other two orthogonal basis vectors and $\\bar{o}$ is the translation vector from the origin to the point-of-interest.\n",
    "\n",
    "Overall, we have\n",
    "\n",
    "$ \\frac{\\partial F'}{\\partial z'} = \\frac{\\partial F}{\\partial x} c_x + \\frac{\\partial F}{\\partial y} c_y + c_z$\n"
   ]
  },
  {
   "cell_type": "markdown",
   "metadata": {},
   "source": [
    "## Hessian Terms\n",
    "\n",
    "Now I need to multiply out the expression for the Hessian:\n",
    "\n",
    "$ H(F') = B^T H(F) B $\n",
    "\n",
    "Here the transpose makes more sense.\n",
    "\n"
   ]
  },
  {
   "cell_type": "code",
   "execution_count": 3,
   "metadata": {},
   "outputs": [],
   "source": [
    "A,B,C,D,E,F,G,H,J = sympy.symbols(\"A B C D E F G H J\")"
   ]
  },
  {
   "cell_type": "code",
   "execution_count": 4,
   "metadata": {},
   "outputs": [],
   "source": [
    "x1 = A*x + B*y + C*z\n",
    "y1 = D*x + E*y + F*z\n",
    "z1 = G*x + H*y + J*z"
   ]
  },
  {
   "cell_type": "code",
   "execution_count": 5,
   "metadata": {},
   "outputs": [
    {
     "ename": "ValueError",
     "evalue": "\nCan't calculate derivative wrt A*x + B*y + C*z.",
     "output_type": "error",
     "traceback": [
      "\u001b[0;31m---------------------------------------------------------------------------\u001b[0m",
      "\u001b[0;31mValueError\u001b[0m                                Traceback (most recent call last)",
      "\u001b[0;32m<ipython-input-5-65213cf7b895>\u001b[0m in \u001b[0;36m<module>\u001b[0;34m\u001b[0m\n\u001b[0;32m----> 1\u001b[0;31m \u001b[0msympy\u001b[0m\u001b[0;34m.\u001b[0m\u001b[0mdiff\u001b[0m\u001b[0;34m(\u001b[0m\u001b[0mz1\u001b[0m\u001b[0;34m,\u001b[0m\u001b[0mx1\u001b[0m\u001b[0;34m)\u001b[0m\u001b[0;34m\u001b[0m\u001b[0;34m\u001b[0m\u001b[0m\n\u001b[0m",
      "\u001b[0;32m~/bryan/miniconda3/envs/raytrace/lib/python3.7/site-packages/sympy/core/function.py\u001b[0m in \u001b[0;36mdiff\u001b[0;34m(f, *symbols, **kwargs)\u001b[0m\n\u001b[1;32m   2490\u001b[0m     \"\"\"\n\u001b[1;32m   2491\u001b[0m     \u001b[0;32mif\u001b[0m \u001b[0mhasattr\u001b[0m\u001b[0;34m(\u001b[0m\u001b[0mf\u001b[0m\u001b[0;34m,\u001b[0m \u001b[0;34m'diff'\u001b[0m\u001b[0;34m)\u001b[0m\u001b[0;34m:\u001b[0m\u001b[0;34m\u001b[0m\u001b[0;34m\u001b[0m\u001b[0m\n\u001b[0;32m-> 2492\u001b[0;31m         \u001b[0;32mreturn\u001b[0m \u001b[0mf\u001b[0m\u001b[0;34m.\u001b[0m\u001b[0mdiff\u001b[0m\u001b[0;34m(\u001b[0m\u001b[0;34m*\u001b[0m\u001b[0msymbols\u001b[0m\u001b[0;34m,\u001b[0m \u001b[0;34m**\u001b[0m\u001b[0mkwargs\u001b[0m\u001b[0;34m)\u001b[0m\u001b[0;34m\u001b[0m\u001b[0;34m\u001b[0m\u001b[0m\n\u001b[0m\u001b[1;32m   2493\u001b[0m     \u001b[0mkwargs\u001b[0m\u001b[0;34m.\u001b[0m\u001b[0msetdefault\u001b[0m\u001b[0;34m(\u001b[0m\u001b[0;34m'evaluate'\u001b[0m\u001b[0;34m,\u001b[0m \u001b[0;32mTrue\u001b[0m\u001b[0;34m)\u001b[0m\u001b[0;34m\u001b[0m\u001b[0;34m\u001b[0m\u001b[0m\n\u001b[1;32m   2494\u001b[0m     \u001b[0;32mreturn\u001b[0m \u001b[0m_derivative_dispatch\u001b[0m\u001b[0;34m(\u001b[0m\u001b[0mf\u001b[0m\u001b[0;34m,\u001b[0m \u001b[0;34m*\u001b[0m\u001b[0msymbols\u001b[0m\u001b[0;34m,\u001b[0m \u001b[0;34m**\u001b[0m\u001b[0mkwargs\u001b[0m\u001b[0;34m)\u001b[0m\u001b[0;34m\u001b[0m\u001b[0;34m\u001b[0m\u001b[0m\n",
      "\u001b[0;32m~/bryan/miniconda3/envs/raytrace/lib/python3.7/site-packages/sympy/core/expr.py\u001b[0m in \u001b[0;36mdiff\u001b[0;34m(self, *symbols, **assumptions)\u001b[0m\n\u001b[1;32m   3472\u001b[0m     \u001b[0;32mdef\u001b[0m \u001b[0mdiff\u001b[0m\u001b[0;34m(\u001b[0m\u001b[0mself\u001b[0m\u001b[0;34m,\u001b[0m \u001b[0;34m*\u001b[0m\u001b[0msymbols\u001b[0m\u001b[0;34m,\u001b[0m \u001b[0;34m**\u001b[0m\u001b[0massumptions\u001b[0m\u001b[0;34m)\u001b[0m\u001b[0;34m:\u001b[0m\u001b[0;34m\u001b[0m\u001b[0;34m\u001b[0m\u001b[0m\n\u001b[1;32m   3473\u001b[0m         \u001b[0massumptions\u001b[0m\u001b[0;34m.\u001b[0m\u001b[0msetdefault\u001b[0m\u001b[0;34m(\u001b[0m\u001b[0;34m\"evaluate\"\u001b[0m\u001b[0;34m,\u001b[0m \u001b[0;32mTrue\u001b[0m\u001b[0;34m)\u001b[0m\u001b[0;34m\u001b[0m\u001b[0;34m\u001b[0m\u001b[0m\n\u001b[0;32m-> 3474\u001b[0;31m         \u001b[0;32mreturn\u001b[0m \u001b[0m_derivative_dispatch\u001b[0m\u001b[0;34m(\u001b[0m\u001b[0mself\u001b[0m\u001b[0;34m,\u001b[0m \u001b[0;34m*\u001b[0m\u001b[0msymbols\u001b[0m\u001b[0;34m,\u001b[0m \u001b[0;34m**\u001b[0m\u001b[0massumptions\u001b[0m\u001b[0;34m)\u001b[0m\u001b[0;34m\u001b[0m\u001b[0;34m\u001b[0m\u001b[0m\n\u001b[0m\u001b[1;32m   3475\u001b[0m \u001b[0;34m\u001b[0m\u001b[0m\n\u001b[1;32m   3476\u001b[0m     \u001b[0;31m###########################################################################\u001b[0m\u001b[0;34m\u001b[0m\u001b[0;34m\u001b[0m\u001b[0;34m\u001b[0m\u001b[0m\n",
      "\u001b[0;32m~/bryan/miniconda3/envs/raytrace/lib/python3.7/site-packages/sympy/core/function.py\u001b[0m in \u001b[0;36m_derivative_dispatch\u001b[0;34m(expr, *variables, **kwargs)\u001b[0m\n\u001b[1;32m   1940\u001b[0m         \u001b[0;32mfrom\u001b[0m \u001b[0msympy\u001b[0m\u001b[0;34m.\u001b[0m\u001b[0mtensor\u001b[0m\u001b[0;34m.\u001b[0m\u001b[0marray\u001b[0m\u001b[0;34m.\u001b[0m\u001b[0marray_derivatives\u001b[0m \u001b[0;32mimport\u001b[0m \u001b[0mArrayDerivative\u001b[0m\u001b[0;34m\u001b[0m\u001b[0;34m\u001b[0m\u001b[0m\n\u001b[1;32m   1941\u001b[0m         \u001b[0;32mreturn\u001b[0m \u001b[0mArrayDerivative\u001b[0m\u001b[0;34m(\u001b[0m\u001b[0mexpr\u001b[0m\u001b[0;34m,\u001b[0m \u001b[0;34m*\u001b[0m\u001b[0mvariables\u001b[0m\u001b[0;34m,\u001b[0m \u001b[0;34m**\u001b[0m\u001b[0mkwargs\u001b[0m\u001b[0;34m)\u001b[0m\u001b[0;34m\u001b[0m\u001b[0;34m\u001b[0m\u001b[0m\n\u001b[0;32m-> 1942\u001b[0;31m     \u001b[0;32mreturn\u001b[0m \u001b[0mDerivative\u001b[0m\u001b[0;34m(\u001b[0m\u001b[0mexpr\u001b[0m\u001b[0;34m,\u001b[0m \u001b[0;34m*\u001b[0m\u001b[0mvariables\u001b[0m\u001b[0;34m,\u001b[0m \u001b[0;34m**\u001b[0m\u001b[0mkwargs\u001b[0m\u001b[0;34m)\u001b[0m\u001b[0;34m\u001b[0m\u001b[0;34m\u001b[0m\u001b[0m\n\u001b[0m\u001b[1;32m   1943\u001b[0m \u001b[0;34m\u001b[0m\u001b[0m\n\u001b[1;32m   1944\u001b[0m \u001b[0;34m\u001b[0m\u001b[0m\n",
      "\u001b[0;32m~/bryan/miniconda3/envs/raytrace/lib/python3.7/site-packages/sympy/core/function.py\u001b[0m in \u001b[0;36m__new__\u001b[0;34m(cls, expr, *variables, **kwargs)\u001b[0m\n\u001b[1;32m   1368\u001b[0m                 raise ValueError(filldedent('''\n\u001b[1;32m   1369\u001b[0m                     Can't calculate derivative wrt %s.%s''' % (v,\n\u001b[0;32m-> 1370\u001b[0;31m                     __)))\n\u001b[0m\u001b[1;32m   1371\u001b[0m \u001b[0;34m\u001b[0m\u001b[0m\n\u001b[1;32m   1372\u001b[0m         \u001b[0;31m# We make a special case for 0th derivative, because there is no\u001b[0m\u001b[0;34m\u001b[0m\u001b[0;34m\u001b[0m\u001b[0;34m\u001b[0m\u001b[0m\n",
      "\u001b[0;31mValueError\u001b[0m: \nCan't calculate derivative wrt A*x + B*y + C*z."
     ]
    }
   ],
   "source": [
    "sympy.diff(z1,x1)"
   ]
  },
  {
   "cell_type": "code",
   "execution_count": null,
   "metadata": {},
   "outputs": [],
   "source": []
  }
 ],
 "metadata": {
  "hide_input": false,
  "kernelspec": {
   "display_name": "Python [conda env:raytrace_py3]",
   "language": "python",
   "name": "conda-env-raytrace_py3-py"
  },
  "language_info": {
   "codemirror_mode": {
    "name": "ipython",
    "version": 3
   },
   "file_extension": ".py",
   "mimetype": "text/x-python",
   "name": "python",
   "nbconvert_exporter": "python",
   "pygments_lexer": "ipython3",
   "version": "3.6.8"
  },
  "toc": {
   "base_numbering": 1,
   "nav_menu": {},
   "number_sections": true,
   "sideBar": true,
   "skip_h1_title": false,
   "title_cell": "Table of Contents",
   "title_sidebar": "Contents",
   "toc_cell": false,
   "toc_position": {},
   "toc_section_display": true,
   "toc_window_display": false
  }
 },
 "nbformat": 4,
 "nbformat_minor": 4
}
