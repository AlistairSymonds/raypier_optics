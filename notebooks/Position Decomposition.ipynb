{
 "cells": [
  {
   "cell_type": "markdown",
   "metadata": {},
   "source": [
    "# Position Decomposition\n",
    "\n",
    "Decomposing a wavefront into Gausslets turns out to be a somewhat involved procedure. \n",
    "There are a number of rules to follow:\n",
    "\n",
    "* The new Gausslets must have direction orthogonal to the wavefront surface (i.e. their direction is the gradient of the phase)\n",
    "* The Gausslets must have curvature that matches the input wavefront\n",
    "* The sum of the E-field contributions of the Gausslets should equal the input E-field (ideally, everywhere)\n",
    "\n",
    "The last of these is a bit of a pain. The Gausslets we create are going to overlap, in order to give a nice\n",
    "smooth E-field. However, this means they are not independent. The E-field at the origin of one Gausslet \n",
    "also include the contribution from the surrounding ones. For a hexagonal-type arrangement, the central mode contributes something like 65% of the amplitude. The immediate neighbours add up to about 30% and the next \n",
    "12 further out contribute something like 3% and so on (these are guestimate numbers; hopefully we can \n",
    "obtain the concrete values later on in this document). I am expecting that for most applications, the nearest two rings will give sufficient accuracy. "
   ]
  },
  {
   "cell_type": "code",
   "execution_count": 8,
   "metadata": {},
   "outputs": [],
   "source": [
    "import sys\n",
    "sys.path.append(\"..\")\n",
    "import numpy\n",
    "from matplotlib import pyplot as pp\n",
    "from raypier.core.gausslets import calc_mode_curvature, eval_Efield_from_gausslets, \\\n",
    "        build_interaction_matrix\n",
    "from raypier.core.ctracer import ray_dtype, GaussletCollection, Gausslet, Ray"
   ]
  },
  {
   "cell_type": "markdown",
   "metadata": {},
   "source": [
    "We being by constructing an input mode, being a single Gaussian beam directed along the z-axis and\n",
    "converging to a beam-waist at (0,0,50).\n",
    "\n",
    "Let the beam-radius be 10 wavelengths and the wavelength be 1um."
   ]
  },
  {
   "cell_type": "code",
   "execution_count": 12,
   "metadata": {},
   "outputs": [],
   "source": [
    "wavelength = 1.0\n",
    "\n",
    "wavelengths = numpy.array([wavelength], 'd')\n",
    "\n",
    "ray = Ray(origin = (0,0,0),\n",
    "          direction = (0,0,1),\n",
    "          E_vector = (1,0,0),\n",
    "          E1_amp = 1.0,\n",
    "          E2_amp = 0.0)\n",
    "\n",
    "gausslet = Gausslet(base_ray=ray)\n",
    "gc = GaussletCollection(1)\n",
    "gc.add_gausslet(gausslet)\n",
    "\n",
    "radius_mm = wavelength * 10 / 1000.0\n",
    "working_dist = 50.0\n",
    "gc.config_parabasal_rays(wavelengths, radius_mm, working_dist)\n"
   ]
  },
  {
   "cell_type": "code",
   "execution_count": 14,
   "metadata": {},
   "outputs": [
    {
     "name": "stdout",
     "output_type": "stream",
     "text": [
      "[[[ 1.59154943  0.01        0.        ]\n",
      "  [-1.59154943  0.01        0.        ]\n",
      "  [-0.80443497  1.37332224  0.        ]\n",
      "  [ 0.78711446 -1.38332224  0.        ]\n",
      "  [-0.78711446 -1.38332224  0.        ]\n",
      "  [ 0.80443497  1.37332224  0.        ]]]\n"
     ]
    }
   ],
   "source": [
    "print(gc.para_origin)"
   ]
  },
  {
   "cell_type": "markdown",
   "metadata": {},
   "source": [
    "We can see that our Gaussian beam is roughly 1.6mm radius at the origin.\n",
    "\n",
    "We are going to decomposte the wavefront at the origin into modes with radius 50um, with radius up to\n",
    "2mm. This means a resolution of 20."
   ]
  },
  {
   "cell_type": "code",
   "execution_count": null,
   "metadata": {},
   "outputs": [],
   "source": [
    "input_rays = gc\n",
    "radius = 2.0\n",
    "resolution = 20.0"
   ]
  },
  {
   "cell_type": "code",
   "execution_count": null,
   "metadata": {},
   "outputs": [],
   "source": [
    "spacing = radius / resolution\n",
    "wavelengths = input_rays.wavelengths\n",
    "\n",
    "if len(numpy.unique(wavelengths)) > 1:\n",
    "    raise ValueError(\"Can't decompose wavefront with more than one wavelength present.\")\n",
    "\n",
    "wavelength = wavelengths[0]\n",
    "\n",
    "origin = numpy.asarray(origin)\n",
    "direction = normaliseVector(numpy.asarray(direction))\n",
    "axis1 = normaliseVector(numpy.asarray(axis1))\n",
    "axis2 = numpy.cross(axis1, direction)\n",
    "axis1 = numpy.cross(axis2, direction)\n",
    "\n",
    "###In this version, we will evaluate the field on a cartesian grid\n",
    "_radius = radius * (1 + 1./resolution)\n",
    "x_ = y_ = numpy.linspace(-_radius,_radius, resolution*2)\n",
    "\n",
    "x,y = numpy.meshgrid(x_, y_)\n",
    "\n",
    "origins = origin[None,:] + x.reshape(-1,)[:,None]*axis1[None,:] + y.reshape(-1)[:,None]*axis2[None,:]\n",
    "\n",
    "E_field = eval_Efield_from_gausslets(input_rays, origins, wavelengths)\n",
    "\n",
    "### Project onto local axes to get orthogonal polarisations and choose the one with the most power\n",
    "E1_amp = (E_field*axis1[None,:]).sum(axis=1)\n",
    "E2_amp = (E_field*axis2[None,:]).sum(axis=1)\n",
    "\n",
    "P1 = (E1_amp.real**2 + E1_amp.imag**2).sum()\n",
    "P2 = (E2_amp.real**2 + E2_amp.imag**2).sum()\n",
    "\n",
    "if P1 > P2:\n",
    "    ### Always in the range -pi to +pi\n",
    "    phase = numpy.arctan2(E1_amp.imag, E1_amp.real)\n",
    "else:\n",
    "    phase = numpy.arctan2(E2_amp.imag, E2_amp.real)\n",
    "\n",
    "nx = len(x_)\n",
    "ny = len(y_)\n",
    "phase.shape = (nx, ny)\n",
    "\n",
    "if curvature is not None:\n",
    "    R = 1000*curvature/wavelength\n",
    "    sph = R - numpy.sqrt(R*R - x*x - y*y) - numpy.pi\n",
    "    phase = phase - sph\n",
    "    phase = phase%(2*numpy.pi)\n",
    "    phase = phase - numpy.pi\n",
    "else:\n",
    "    sph = 0\n",
    "\n",
    "uphase = unwrap2d(phase, anchor=(nx//2, ny//2)) + sph\n",
    "\n",
    "wavefront = RectBivariateSpline(x_, y_, uphase*wavelength/(2000*numpy.pi))\n",
    "\n",
    "### Now make a hex-grid of new ray start-points\n",
    "rx,ry, nb = make_hexagonal_grid(radius, spacing=spacing, connectivity=True)\n",
    "\n",
    "N = len(rx)\n",
    "\n",
    "origins = origin[None,:] + rx[:,None]*axis1[None,:] + ry[:,None]*axis2[None,:]\n",
    "\n",
    "### First derivatives give us the ray directions\n",
    "dx = wavefront(rx,ry,dx=1, grid=False)\n",
    "dy = wavefront(rx,ry,dy=1, grid=False)\n",
    "\n",
    "### Get second derivatives, to get wavefront curvature\n",
    "dx2 = wavefront(rx,ry,dx=2, grid=False)\n",
    "dy2 = wavefront(rx,ry,dy=2, grid=False)\n",
    "dxdy = wavefront(rx,ry,dx=1,dy=1, grid=False)\n",
    "\n",
    "### for direction, d:\n",
    "### d^z gives a unit vector in the xy plane, called D\n",
    "### D^d gives an orthogonal vector, called G\n",
    "### A point r on surface is represented as (r.D, r.G)\n",
    "### x' = (r-o).G, y' = (r-o).D, z' = (r-o).d\n",
    "### dz'/dx' = 0 by definition\n",
    "\n",
    "###Convert to A,B,C coefficients\n",
    "A,B,C,x,y,z = calc_mode_curvature(rx, ry, dx, dy, dx2, dy2, dxdy)\n",
    "\n",
    "max_spacing = spacing *2\n",
    "data, (xi, xj) = build_interaction_matrix(rx, ry, A, B,  C, \n",
    "                                          x, y, z,\n",
    "                                          wavelength, spacing, \n",
    "                                          max_spacing, blending)\n",
    "\n",
    "M = coo_matrix( (data,(xi,xj)), shape=(N,N)) #I think M should be Hermitian\n",
    "\n",
    "E_in = eval_Efield_from_gausslets(input_rays, origins, wavelengths) #should be a (N,3) array of complex values\n",
    "\n",
    "E_out_x = lsqr(M, E_in[:,0])\n",
    "E_out_y = lsqr(M, E_in[:,1])\n",
    "E_out_z = lsqr(M, E_in[:,2])\n",
    "\n",
    "ray_data = numpy.zeros(N, dtype=ray_dtype)\n",
    "\n",
    "### Now need to construct the GaussletCollection."
   ]
  }
 ],
 "metadata": {
  "hide_input": false,
  "kernelspec": {
   "display_name": "Python [conda env:raytrace_py3]",
   "language": "python",
   "name": "conda-env-raytrace_py3-py"
  },
  "language_info": {
   "codemirror_mode": {
    "name": "ipython",
    "version": 3
   },
   "file_extension": ".py",
   "mimetype": "text/x-python",
   "name": "python",
   "nbconvert_exporter": "python",
   "pygments_lexer": "ipython3",
   "version": "3.6.8"
  },
  "toc": {
   "base_numbering": 1,
   "nav_menu": {},
   "number_sections": true,
   "sideBar": true,
   "skip_h1_title": false,
   "title_cell": "Table of Contents",
   "title_sidebar": "Contents",
   "toc_cell": false,
   "toc_position": {},
   "toc_section_display": true,
   "toc_window_display": false
  }
 },
 "nbformat": 4,
 "nbformat_minor": 2
}
