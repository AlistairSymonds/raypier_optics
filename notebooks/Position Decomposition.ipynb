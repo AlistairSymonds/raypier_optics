{
 "cells": [
  {
   "cell_type": "markdown",
   "metadata": {},
   "source": [
    "# Position Decomposition\n",
    "\n",
    "Decomposing a wavefront into Gausslets turns out to be a somewhat involved procedure. \n",
    "There are a number of rules to follow:\n",
    "\n",
    "* The new Gausslets must have direction orthogonal to the wavefront surface (i.e. their direction is the gradient of the phase)\n",
    "* The Gausslets must have curvature that matches the input wavefront\n",
    "* The sum of the E-field contributions of the Gausslets should equal the input E-field (ideally, everywhere)\n",
    "\n",
    "The last of these is a bit of a pain. The Gausslets we create are going to overlap, in order to give a nice\n",
    "smooth E-field. However, this means they are not independent. The E-field at the origin of one Gausslet \n",
    "also include the contribution from the surrounding ones. For a hexagonal-type arrangement, the central mode contributes something like 65% of the amplitude. The immediate neighbours add up to about 30% and the next \n",
    "12 further out contribute something like 3% and so on (these are guestimate numbers; hopefully we can \n",
    "obtain the concrete values later on in this document). I am expecting that for most applications, the nearest two rings will give sufficient accuracy. "
   ]
  },
  {
   "cell_type": "code",
   "execution_count": 1,
   "metadata": {},
   "outputs": [],
   "source": [
    "import sys\n",
    "sys.path.append(\"..\")\n",
    "import numpy\n",
    "from matplotlib import pyplot as pp\n",
    "from raypier.core.gausslets import calc_mode_curvature, eval_Efield_from_gausslets, \\\n",
    "        build_interaction_matrix, unwrap2d, make_hexagonal_grid, apply_mode_curvature\n",
    "from raypier.core.fields import evaluate_neighbours_gc, evaluate_modes_c\n",
    "from raypier.core.ctracer import ray_dtype, GaussletCollection, Gausslet, Ray\n",
    "from raypier.gausslet_sources import GaussianPointSource\n",
    "from raypier.core.utils import normaliseVector\n",
    "import k3d\n",
    "\n",
    "from matplotlib.tri import Triangulation\n",
    "from scipy.interpolate import RectBivariateSpline"
   ]
  },
  {
   "cell_type": "code",
   "execution_count": null,
   "metadata": {},
   "outputs": [],
   "source": [
    "def pwr(data):\n",
    "    return data.real**2 + data.imag**2"
   ]
  },
  {
   "cell_type": "markdown",
   "metadata": {},
   "source": [
    "We being by constructing an input mode, being a single Gaussian beam directed along the z-axis and\n",
    "converging to a beam-waist at (0,0,50).\n",
    "\n",
    "Let the beam-radius be 10 wavelengths and the wavelength be 1um."
   ]
  },
  {
   "cell_type": "code",
   "execution_count": null,
   "metadata": {},
   "outputs": [],
   "source": [
    "wavelength = 1.0\n",
    "blending = 1.5\n",
    "\n",
    "src = GaussianPointSource(centre=(0,0,0),\n",
    "                          direction=(0,0,1),\n",
    "                          E_vector=(1,0,0),\n",
    "                          E1_amp=1.0,\n",
    "                          E2_amp=0.0,\n",
    "                          wavelength=wavelength,\n",
    "                          resolution=10.0,\n",
    "                          beam_waist=wavelength*5.0,\n",
    "                          numerical_aperture=0.1,\n",
    "                          blending=blending,\n",
    "                          working_dist=50.0)\n",
    "\n",
    "input_rays = src.input_rays\n"
   ]
  },
  {
   "cell_type": "code",
   "execution_count": null,
   "metadata": {},
   "outputs": [],
   "source": [
    "o=input_rays.base_rays.origin\n",
    "r = numpy.sqrt(o[:,0]**2 + o[:,1]**2)\n",
    "r.max()"
   ]
  },
  {
   "cell_type": "markdown",
   "metadata": {},
   "source": [
    "We can see that our Gaussian beam is roughly 5mm radius at the origin.\n",
    "\n",
    "We are going to decomposte the wavefront at the origin into modes with a resolution of 20.0 and a maximum\n",
    "radius of 5mm. This means we'll end up with a gausslet spacing of 0.25mm."
   ]
  },
  {
   "cell_type": "code",
   "execution_count": null,
   "metadata": {},
   "outputs": [],
   "source": [
    "radius = 5.0\n",
    "resolution = 10.0"
   ]
  },
  {
   "cell_type": "markdown",
   "metadata": {},
   "source": [
    "We now need to define the origin, orientation and direction of the decomposition plane."
   ]
  },
  {
   "cell_type": "code",
   "execution_count": null,
   "metadata": {},
   "outputs": [],
   "source": [
    "origin = (0,0,0)\n",
    "direction=(0,0,1)\n",
    "axis1 = (1,0,0)"
   ]
  },
  {
   "cell_type": "markdown",
   "metadata": {},
   "source": [
    "Now we being the decomposition routine as given in the `raypier.core.gausslets` module."
   ]
  },
  {
   "cell_type": "code",
   "execution_count": null,
   "metadata": {},
   "outputs": [],
   "source": [
    "spacing = radius / resolution\n",
    "wavelengths = input_rays.wavelengths\n",
    "\n",
    "if len(numpy.unique(wavelengths)) > 1:\n",
    "    raise ValueError(\"Can't decompose wavefront with more than one wavelength present.\")\n",
    "\n",
    "wavelength = wavelengths[0]\n",
    "\n",
    "origin = numpy.asarray(origin)\n",
    "direction = normaliseVector(numpy.asarray(direction))\n",
    "axis1 = normaliseVector(numpy.asarray(axis1))\n",
    "axis2 = normaliseVector(numpy.cross(axis1, direction))\n",
    "axis1 = numpy.cross(axis2, direction)\n",
    "\n",
    "###In this version, we will evaluate the field on a cartesian grid\n",
    "_radius = radius * (1 + 2./resolution)\n",
    "x_ = y_ = numpy.linspace(-_radius,_radius, int((1.2*resolution)*2))\n",
    "\n",
    "x,y = numpy.meshgrid(x_, y_)\n",
    "\n",
    "origins_in = origin[None,:] + x.reshape(-1,)[:,None]*axis1[None,:] + y.reshape(-1)[:,None]*axis2[None,:]\n",
    "\n",
    "E_field = eval_Efield_from_gausslets(input_rays, origins_in, wavelengths)"
   ]
  },
  {
   "cell_type": "code",
   "execution_count": null,
   "metadata": {},
   "outputs": [],
   "source": [
    "intensity = (E_field.real**2 + E_field.imag**2).sum(axis=-1).reshape(*x.shape)"
   ]
  },
  {
   "cell_type": "code",
   "execution_count": null,
   "metadata": {},
   "outputs": [],
   "source": [
    "%matplotlib notebook\n",
    "\n",
    "pp.imshow(intensity)"
   ]
  },
  {
   "cell_type": "markdown",
   "metadata": {},
   "source": [
    "So far, so good.\n",
    "\n",
    "Let's define the curvature parameter to be the approx. distance along the decomposition plane direction vector to the focal plane. This will be used to help unwrap the phase."
   ]
  },
  {
   "cell_type": "code",
   "execution_count": null,
   "metadata": {},
   "outputs": [],
   "source": [
    "curvature = 50.0"
   ]
  },
  {
   "cell_type": "code",
   "execution_count": null,
   "metadata": {},
   "outputs": [],
   "source": [
    "### Project onto local axes to get orthogonal polarisations and choose the one with the most power\n",
    "E1_amp = (E_field*axis1[None,:]).sum(axis=1)\n",
    "E2_amp = (E_field*axis2[None,:]).sum(axis=1)\n",
    "\n",
    "P1 = (E1_amp.real**2 + E1_amp.imag**2).sum()\n",
    "P2 = (E2_amp.real**2 + E2_amp.imag**2).sum()\n",
    "\n",
    "if P1 > P2:\n",
    "    ### Always in the range -pi to +pi\n",
    "    phase = numpy.arctan2(E1_amp.imag, E1_amp.real)\n",
    "else:\n",
    "    phase = numpy.arctan2(E2_amp.imag, E2_amp.real)\n",
    "\n",
    "nx = len(x_)\n",
    "ny = len(y_)\n",
    "phase.shape = (nx, ny)"
   ]
  },
  {
   "cell_type": "code",
   "execution_count": null,
   "metadata": {},
   "outputs": [],
   "source": [
    "if curvature is not None:\n",
    "    sphz = -(curvature - numpy.sqrt(curvature*curvature - x*x - y*y))\n",
    "    sph = sphz*2000.0*numpy.pi/wavelength - numpy.pi\n",
    "    phase = phase - sph\n",
    "    phase = phase%(2*numpy.pi)\n",
    "    phase = phase - numpy.pi\n",
    "else:\n",
    "    sph = 0\n",
    "\n",
    "uphase, residuals = unwrap2d(phase, anchor=(nx//2, ny//2))\n",
    "uphase += sph"
   ]
  },
  {
   "cell_type": "code",
   "execution_count": null,
   "metadata": {},
   "outputs": [],
   "source": [
    "%matplotlib notebook\n",
    "\n",
    "pp.imshow(uphase)\n",
    "print(uphase.min(), uphase.max())"
   ]
  },
  {
   "cell_type": "code",
   "execution_count": null,
   "metadata": {},
   "outputs": [],
   "source": [
    "plot = k3d.plot()\n",
    "\n",
    "surf = k3d.surface(-uphase*wavelength/(2000.0*numpy.pi), xmin=x.min(), xmax=x.max(), ymin=y.min(), ymax=y.max())\n",
    "plot += surf\n",
    "\n",
    "plot.display()"
   ]
  },
  {
   "cell_type": "code",
   "execution_count": null,
   "metadata": {},
   "outputs": [],
   "source": [
    "### Setting s=0 results in oscillatory behaviour near the edge along the x-idrection.\n",
    "\n",
    "wavefront = RectBivariateSpline(x_, y_, -uphase*wavelength/(2000*numpy.pi), kx=3, ky=3, s=0.001)\n",
    "\n",
    "### Now make a hex-grid of new ray start-points\n",
    "rx,ry, nb = make_hexagonal_grid(radius, spacing=spacing, connectivity=True)\n",
    "\n",
    "N = len(rx)\n",
    "\n",
    "origins = origin[None,:] + rx[:,None]*axis1[None,:] + ry[:,None]*axis2[None,:]\n",
    "\n",
    "### First derivatives give us the ray directions\n",
    "dx = wavefront(rx,ry,dx=1, grid=False)\n",
    "dy = wavefront(rx,ry,dy=1, grid=False)\n",
    "\n",
    "### Get second derivatives, to get wavefront curvature\n",
    "dx2 = wavefront(rx,ry,dx=2, grid=False)\n",
    "dy2 = wavefront(rx,ry,dy=2, grid=False)\n",
    "dxdy = wavefront(rx,ry,dx=1,dy=1, grid=False)\n",
    "\n",
    "### for direction, d:\n",
    "### d^z gives a unit vector in the xy plane, called D\n",
    "### D^d gives an orthogonal vector, called G\n",
    "### A point r on surface is represented as (r.D, r.G)\n",
    "### x' = (r-o).G, y' = (r-o).D, z' = (r-o).d\n",
    "### dz'/dx' = 0 by definition"
   ]
  },
  {
   "cell_type": "code",
   "execution_count": null,
   "metadata": {},
   "outputs": [],
   "source": [
    "plot = k3d.plot()\n",
    "\n",
    "indices = Triangulation(rx,ry).triangles.astype(numpy.uint32)\n",
    "\n",
    "plt_mesh = k3d.mesh(numpy.vstack([rx,ry,dy2*10]).T, indices,\n",
    "                   color_map = k3d.colormaps.basic_color_maps.Jet,\n",
    "                   attribute=dy2*20,\n",
    "                   color_range = [-1.1,2.01]\n",
    "                   )\n",
    "plot += plt_mesh\n",
    "plot.display()"
   ]
  },
  {
   "cell_type": "code",
   "execution_count": null,
   "metadata": {},
   "outputs": [],
   "source": [
    "###Convert to A,B,C coefficients\n",
    "A,B,C,xl,yl,zl = calc_mode_curvature(rx, ry, dx, dy, dx2, dy2, dxdy)"
   ]
  },
  {
   "cell_type": "code",
   "execution_count": null,
   "metadata": {},
   "outputs": [],
   "source": [
    "A.max(), A.min(), B.max(), B.min(), C.max(), C.min()"
   ]
  },
  {
   "cell_type": "code",
   "execution_count": null,
   "metadata": {},
   "outputs": [],
   "source": [
    "zl[:,0].max(), zl[:,0].min()"
   ]
  },
  {
   "cell_type": "code",
   "execution_count": null,
   "metadata": {},
   "outputs": [],
   "source": [
    "x_.min(), x_.max()"
   ]
  },
  {
   "cell_type": "markdown",
   "metadata": {},
   "source": [
    "Given that the curvature of the surface is somewhat gentle (at least visually), the z-vectors should all be close to unity (the z-component should be about 0.9 near the edge of the sampled range). "
   ]
  },
  {
   "cell_type": "code",
   "execution_count": null,
   "metadata": {},
   "outputs": [],
   "source": [
    "max_spacing = spacing * 2.1\n",
    "\n",
    "### The A,B,C arguments \n",
    "data, (xi, xj) = build_interaction_matrix(rx, ry, A, B,  C, \n",
    "                                          xl, yl, zl,\n",
    "                                          wavelength, spacing, \n",
    "                                          max_spacing, blending)"
   ]
  },
  {
   "cell_type": "code",
   "execution_count": null,
   "metadata": {},
   "outputs": [],
   "source": [
    "amp = numpy.sqrt(data.real**2 + data.imag**2)\n",
    "\n",
    "amp[:200]"
   ]
  },
  {
   "cell_type": "markdown",
   "metadata": {},
   "source": [
    "This is not right. Off-diagonal, the matrix elements should be <0.5"
   ]
  },
  {
   "cell_type": "code",
   "execution_count": null,
   "metadata": {},
   "outputs": [],
   "source": [
    "from scipy.sparse import coo_matrix\n",
    "from scipy.sparse.linalg import lsqr, lsmr, spsolve"
   ]
  },
  {
   "cell_type": "code",
   "execution_count": null,
   "metadata": {},
   "outputs": [],
   "source": [
    "M = coo_matrix( (data.conjugate(),(xi,xj)), shape=(N,N)) #I think M should be Hermitian\n",
    "M = M.tocsc()\n",
    "\n",
    "E_in = eval_Efield_from_gausslets(input_rays, origins, wavelengths) #should be a (N,3) array of complex values\n",
    "\n",
    "solve = lsmr\n",
    "\n",
    "E_out_x = solve(M, E_in[:,0])[0]\n",
    "E_out_y = solve(M, E_in[:,1])[0]\n",
    "E_out_z = solve(M, E_in[:,2])[0]\n",
    "\n",
    "E_out = numpy.column_stack([E_out_x, E_out_y, E_out_z])\n",
    "\n",
    "ray_data = numpy.zeros(N, dtype=ray_dtype)\n",
    "\n",
    "### Now need to construct the GaussletCollection."
   ]
  },
  {
   "cell_type": "raw",
   "metadata": {},
   "source": [
    "%%timeit\n",
    "\n",
    "E_out_x = solve(M, E_in[:,0])[0]\n",
    "E_out_y = solve(M, E_in[:,1])[0]\n",
    "E_out_z = solve(M, E_in[:,2])[0]"
   ]
  },
  {
   "cell_type": "code",
   "execution_count": null,
   "metadata": {},
   "outputs": [],
   "source": [
    "directions = axis1[None,:]*zl[:,0,None] + axis2[None,:]*zl[:,1,None] + direction[None,:]*zl[:,2,None]\n",
    "E_vectors = axis1[None,:]*xl[:,0,None] + axis2[None,:]*xl[:,1,None] + direction[None,:]*xl[:,2,None]\n",
    "H_vectors = axis1[None,:]*yl[:,0,None] + axis2[None,:]*yl[:,1,None] + direction[None,:]*yl[:,2,None]\n",
    "\n",
    "E1_amp = (E_out*E_vectors).sum(axis=-1)\n",
    "E2_amp = (E_out*H_vectors).sum(axis=-1)"
   ]
  },
  {
   "cell_type": "code",
   "execution_count": null,
   "metadata": {},
   "outputs": [],
   "source": [
    "(zl*xl).sum(axis=-1).max(), (zl*yl).sum(axis=-1).max(), (yl*xl).sum(axis=-1).max()"
   ]
  },
  {
   "cell_type": "code",
   "execution_count": null,
   "metadata": {},
   "outputs": [],
   "source": [
    "(axis1*direction).sum(), (axis1*axis2).sum(), (axis2*direction).sum()"
   ]
  },
  {
   "cell_type": "code",
   "execution_count": null,
   "metadata": {},
   "outputs": [],
   "source": [
    "plot = k3d.plot()\n",
    "\n",
    "vectors = k3d.vectors(origins, directions)\n",
    "plot += vectors\n",
    "\n",
    "vectors_x = k3d.vectors(origins, E_vectors, origin_color=0xff0000, head_color=0xff0000)\n",
    "plot += vectors_x\n",
    "\n",
    "vectors_x = k3d.vectors(origins, H_vectors, origin_color=0x00ff00, head_color=0x00ff00)\n",
    "plot += vectors_x\n",
    "\n",
    "plot.display()"
   ]
  },
  {
   "cell_type": "code",
   "execution_count": null,
   "metadata": {},
   "outputs": [],
   "source": [
    "ray_data['origin'] = origins\n",
    "ray_data['direction'] = directions\n",
    "ray_data['E_vector'] = E_vectors\n",
    "ray_data['refractive_index'] = 1.0\n",
    "ray_data['E1_amp'] = E1_amp\n",
    "ray_data['E2_amp'] = E2_amp\n",
    "\n",
    "\n",
    "gausslets = GaussletCollection.from_rays(ray_data)"
   ]
  },
  {
   "cell_type": "code",
   "execution_count": null,
   "metadata": {},
   "outputs": [],
   "source": [
    "gausslets.config_parabasal_rays(wavelengths, spacing/blending, 0.0)"
   ]
  },
  {
   "cell_type": "markdown",
   "metadata": {},
   "source": [
    "Now need to apply curvature to gausslets"
   ]
  },
  {
   "cell_type": "code",
   "execution_count": null,
   "metadata": {},
   "outputs": [],
   "source": [
    "apply_mode_curvature(gausslets, -A, -B, -C)"
   ]
  },
  {
   "cell_type": "markdown",
   "metadata": {},
   "source": [
    "Now check to see if we get the same curvature back"
   ]
  },
  {
   "cell_type": "code",
   "execution_count": null,
   "metadata": {},
   "outputs": [],
   "source": [
    "def eval_modes(gausslets, blending=1.0):\n",
    "    gc = gausslets.copy_as_array() \n",
    "    rays, x, y, dx, dy = evaluate_neighbours_gc(gc)\n",
    "    modes = evaluate_modes_c(x, y, dx, dy, blending=blending)\n",
    "    return modes\n",
    "\n",
    "modes = eval_modes(gausslets)\n"
   ]
  },
  {
   "cell_type": "code",
   "execution_count": null,
   "metadata": {},
   "outputs": [],
   "source": [
    "modes[:5,0], A[:5]"
   ]
  },
  {
   "cell_type": "markdown",
   "metadata": {},
   "source": [
    "Since we.re 50mm away form the focus, the second derivatives should be 1/R, being 0.02\n",
    "\n",
    "Let's check what the input rays give us:"
   ]
  },
  {
   "cell_type": "code",
   "execution_count": null,
   "metadata": {},
   "outputs": [],
   "source": [
    "modes_in = eval_modes(input_rays)\n",
    "\n",
    "modes_in[:5,0]"
   ]
  },
  {
   "cell_type": "markdown",
   "metadata": {},
   "source": [
    "Now we need to test the new gausslets to see if they give the same field."
   ]
  },
  {
   "cell_type": "code",
   "execution_count": null,
   "metadata": {},
   "outputs": [],
   "source": [
    "E_test = eval_Efield_from_gausslets(gausslets, origins_in, wavelengths)"
   ]
  },
  {
   "cell_type": "code",
   "execution_count": null,
   "metadata": {},
   "outputs": [],
   "source": [
    "intensity2 = (E_test.real**2 + E_test.imag**2).sum(axis=-1).reshape(*x.shape)"
   ]
  },
  {
   "cell_type": "code",
   "execution_count": null,
   "metadata": {},
   "outputs": [],
   "source": [
    "%matplotlib notebook\n",
    "\n",
    "pp.figure()\n",
    "ax1 = pp.subplot(121)\n",
    "ax1.imshow(pwr(E_test[:,0]).reshape(*x.shape))\n",
    "ax1.set_title(\"Decomposed Intensity\")\n",
    "ax2 = pp.subplot(122)\n",
    "ax2.imshow(pwr(E_field[:,0]).reshape(*x.shape))\n",
    "ax2.set_title(\"Original intensity\")\n",
    "print(E_field[:,0].reshape(*x.shape)[12,12])\n",
    "print(E_test[:,0].reshape(*x.shape)[12,12])"
   ]
  },
  {
   "cell_type": "markdown",
   "metadata": {},
   "source": [
    "Hmmm.... Not bad. Scaling not quite right though"
   ]
  },
  {
   "cell_type": "code",
   "execution_count": null,
   "metadata": {},
   "outputs": [],
   "source": [
    "r = intensity.sum()/intensity2.sum()\n",
    "r, 1/r"
   ]
  },
  {
   "cell_type": "code",
   "execution_count": null,
   "metadata": {},
   "outputs": [],
   "source": []
  },
  {
   "cell_type": "code",
   "execution_count": null,
   "metadata": {},
   "outputs": [],
   "source": []
  }
 ],
 "metadata": {
  "hide_input": false,
  "kernelspec": {
   "display_name": "Python [conda env:raytrace]",
   "language": "python",
   "name": "conda-env-raytrace-py"
  },
  "language_info": {
   "codemirror_mode": {
    "name": "ipython",
    "version": 3
   },
   "file_extension": ".py",
   "mimetype": "text/x-python",
   "name": "python",
   "nbconvert_exporter": "python",
   "pygments_lexer": "ipython3",
   "version": "3.7.9"
  },
  "toc": {
   "base_numbering": 1,
   "nav_menu": {},
   "number_sections": true,
   "sideBar": true,
   "skip_h1_title": false,
   "title_cell": "Table of Contents",
   "title_sidebar": "Contents",
   "toc_cell": false,
   "toc_position": {},
   "toc_section_display": true,
   "toc_window_display": false
  }
 },
 "nbformat": 4,
 "nbformat_minor": 2
}
